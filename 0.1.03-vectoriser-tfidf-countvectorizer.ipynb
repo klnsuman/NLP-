{
 "cells": [
  {
   "cell_type": "code",
   "execution_count": 25,
   "metadata": {},
   "outputs": [],
   "source": [
    "from sklearn.feature_extraction.text import CountVectorizer\n",
    "import re\n",
    "import nltk\n",
    "import pandas as pd\n",
    "from nltk.stem import PorterStemmer"
   ]
  },
  {
   "cell_type": "code",
   "execution_count": 2,
   "metadata": {},
   "outputs": [],
   "source": [
    "doc=[\"One Cent, Two Cents, Old Cent, New Cent: All About Money\"]"
   ]
  },
  {
   "cell_type": "code",
   "execution_count": 7,
   "metadata": {},
   "outputs": [],
   "source": [
    "cv = CountVectorizer(doc)\n",
    "count_vectorizer = cv.fit_transform(doc)"
   ]
  },
  {
   "cell_type": "code",
   "execution_count": 8,
   "metadata": {},
   "outputs": [
    {
     "data": {
      "text/plain": [
       "{'one': 7,\n",
       " 'cent': 2,\n",
       " 'two': 8,\n",
       " 'cents': 3,\n",
       " 'old': 6,\n",
       " 'new': 5,\n",
       " 'all': 1,\n",
       " 'about': 0,\n",
       " 'money': 4}"
      ]
     },
     "execution_count": 8,
     "metadata": {},
     "output_type": "execute_result"
    }
   ],
   "source": [
    "cv.vocabulary_"
   ]
  },
  {
   "cell_type": "code",
   "execution_count": 9,
   "metadata": {},
   "outputs": [
    {
     "data": {
      "text/plain": [
       "(1, 9)"
      ]
     },
     "execution_count": 9,
     "metadata": {},
     "output_type": "execute_result"
    }
   ],
   "source": [
    "count_vectorizer.shape"
   ]
  },
  {
   "cell_type": "code",
   "execution_count": 10,
   "metadata": {},
   "outputs": [
    {
     "data": {
      "text/plain": [
       "set()"
      ]
     },
     "execution_count": 10,
     "metadata": {},
     "output_type": "execute_result"
    }
   ],
   "source": [
    "cv.stop_words_"
   ]
  },
  {
   "cell_type": "code",
   "execution_count": 11,
   "metadata": {},
   "outputs": [],
   "source": [
    "cat_in_the_hat_docs=[\n",
    "      \"One Cent, Two Cents, Old Cent, New Cent: All About Money (Cat in the Hat's Learning Library\",\n",
    "      \"Inside Your Outside: All About the Human Body (Cat in the Hat's Learning Library)\",\n",
    "      \"Oh, The Things You Can Do That Are Good for You: All About Staying Healthy (Cat in the Hat's Learning Library)\",\n",
    "      \"On Beyond Bugs: All About Insects (Cat in the Hat's Learning Library)\",\n",
    "      \"There's No Place Like Space: All About Our Solar System (Cat in the Hat's Learning Library)\" \n",
    "     ]"
   ]
  },
  {
   "cell_type": "code",
   "execution_count": 12,
   "metadata": {},
   "outputs": [
    {
     "name": "stderr",
     "output_type": "stream",
     "text": [
      "/Users/klrao/anaconda3/lib/python3.8/site-packages/sklearn/utils/validation.py:67: FutureWarning: Pass input=[\"One Cent, Two Cents, Old Cent, New Cent: All About Money (Cat in the Hat's Learning Library\", \"Inside Your Outside: All About the Human Body (Cat in the Hat's Learning Library)\", \"Oh, The Things You Can Do That Are Good for You: All About Staying Healthy (Cat in the Hat's Learning Library)\", \"On Beyond Bugs: All About Insects (Cat in the Hat's Learning Library)\", \"There's No Place Like Space: All About Our Solar System (Cat in the Hat's Learning Library)\"] as keyword args. From version 0.25 passing these as positional arguments will result in an error\n",
      "  warnings.warn(\"Pass {} as keyword args. From version 0.25 \"\n"
     ]
    }
   ],
   "source": [
    "cv = CountVectorizer(cat_in_the_hat_docs)\n",
    "cv_vector = cv.fit_transform(cat_in_the_hat_docs)"
   ]
  },
  {
   "cell_type": "code",
   "execution_count": 13,
   "metadata": {},
   "outputs": [
    {
     "data": {
      "text/plain": [
       "['about',\n",
       " 'all',\n",
       " 'are',\n",
       " 'beyond',\n",
       " 'body',\n",
       " 'bugs',\n",
       " 'can',\n",
       " 'cat',\n",
       " 'cent',\n",
       " 'cents',\n",
       " 'do',\n",
       " 'for',\n",
       " 'good',\n",
       " 'hat',\n",
       " 'healthy',\n",
       " 'human',\n",
       " 'in',\n",
       " 'insects',\n",
       " 'inside',\n",
       " 'learning',\n",
       " 'library',\n",
       " 'like',\n",
       " 'money',\n",
       " 'new',\n",
       " 'no',\n",
       " 'oh',\n",
       " 'old',\n",
       " 'on',\n",
       " 'one',\n",
       " 'our',\n",
       " 'outside',\n",
       " 'place',\n",
       " 'solar',\n",
       " 'space',\n",
       " 'staying',\n",
       " 'system',\n",
       " 'that',\n",
       " 'the',\n",
       " 'there',\n",
       " 'things',\n",
       " 'two',\n",
       " 'you',\n",
       " 'your']"
      ]
     },
     "execution_count": 13,
     "metadata": {},
     "output_type": "execute_result"
    }
   ],
   "source": [
    "cv.get_feature_names()"
   ]
  },
  {
   "cell_type": "code",
   "execution_count": 18,
   "metadata": {},
   "outputs": [
    {
     "data": {
      "text/plain": [
       "matrix([[1, 1, 0, 0, 0, 0, 0, 1, 3, 1, 0, 0, 0, 1, 0, 0, 1, 0, 0, 1, 1,\n",
       "         0, 1, 1, 0, 0, 1, 0, 1, 0, 0, 0, 0, 0, 0, 0, 0, 1, 0, 0, 1, 0,\n",
       "         0]])"
      ]
     },
     "execution_count": 18,
     "metadata": {},
     "output_type": "execute_result"
    }
   ],
   "source": [
    "cv_vector[0].todense()"
   ]
  },
  {
   "cell_type": "code",
   "execution_count": 19,
   "metadata": {},
   "outputs": [
    {
     "data": {
      "text/plain": [
       "{'one': 28,\n",
       " 'cent': 8,\n",
       " 'two': 40,\n",
       " 'cents': 9,\n",
       " 'old': 26,\n",
       " 'new': 23,\n",
       " 'all': 1,\n",
       " 'about': 0,\n",
       " 'money': 22,\n",
       " 'cat': 7,\n",
       " 'in': 16,\n",
       " 'the': 37,\n",
       " 'hat': 13,\n",
       " 'learning': 19,\n",
       " 'library': 20,\n",
       " 'inside': 18,\n",
       " 'your': 42,\n",
       " 'outside': 30,\n",
       " 'human': 15,\n",
       " 'body': 4,\n",
       " 'oh': 25,\n",
       " 'things': 39,\n",
       " 'you': 41,\n",
       " 'can': 6,\n",
       " 'do': 10,\n",
       " 'that': 36,\n",
       " 'are': 2,\n",
       " 'good': 12,\n",
       " 'for': 11,\n",
       " 'staying': 34,\n",
       " 'healthy': 14,\n",
       " 'on': 27,\n",
       " 'beyond': 3,\n",
       " 'bugs': 5,\n",
       " 'insects': 17,\n",
       " 'there': 38,\n",
       " 'no': 24,\n",
       " 'place': 31,\n",
       " 'like': 21,\n",
       " 'space': 33,\n",
       " 'our': 29,\n",
       " 'solar': 32,\n",
       " 'system': 35}"
      ]
     },
     "execution_count": 19,
     "metadata": {},
     "output_type": "execute_result"
    }
   ],
   "source": [
    "cv.vocabulary_"
   ]
  },
  {
   "cell_type": "code",
   "execution_count": 20,
   "metadata": {},
   "outputs": [
    {
     "data": {
      "text/plain": [
       "(5, 43)"
      ]
     },
     "execution_count": 20,
     "metadata": {},
     "output_type": "execute_result"
    }
   ],
   "source": [
    "cv_vector.shape"
   ]
  },
  {
   "cell_type": "code",
   "execution_count": 27,
   "metadata": {},
   "outputs": [],
   "source": [
    "porter_stemmer = PorterStemmer()\n",
    "def my_cool_preprocessor(text):\n",
    "    \n",
    "    text=text.lower() \n",
    "    text=re.sub(\"\\\\W\",\" \",text) # remove special chars\n",
    "    text=re.sub(\"\\\\s+(in|the|all|for|and|on)\\\\s+\",\" _connector_ \",text) # normalize certain words\n",
    "    \n",
    "    # stem words\n",
    "    words=re.split(\"\\\\s+\",text)\n",
    "    stemmed_words=[porter_stemmer.stem(word=word) for word in words]\n",
    "    return ' '.join(stemmed_words)\n",
    "\n",
    "\n",
    "#only bigrams, word level\n",
    "cv = CountVectorizer(cat_in_the_hat_docs,ngram_range=(2,2),preprocessor=my_cool_preprocessor)\n",
    "count_vector=cv.fit_transform(cat_in_the_hat_docs)"
   ]
  },
  {
   "cell_type": "code",
   "execution_count": 28,
   "metadata": {},
   "outputs": [
    {
     "data": {
      "text/plain": [
       "<5x51 sparse matrix of type '<class 'numpy.int64'>'\n",
       "\twith 75 stored elements in Compressed Sparse Row format>"
      ]
     },
     "execution_count": 28,
     "metadata": {},
     "output_type": "execute_result"
    }
   ],
   "source": [
    "count_vector"
   ]
  },
  {
   "cell_type": "code",
   "execution_count": 31,
   "metadata": {},
   "outputs": [
    {
     "data": {
      "text/plain": [
       "{'one cent': 35,\n",
       " 'cent two': 19,\n",
       " 'two cent': 47,\n",
       " 'cent old': 18,\n",
       " 'old cent': 33,\n",
       " 'cent new': 17,\n",
       " 'new cent': 30,\n",
       " 'cent _connector_': 16,\n",
       " '_connector_ about': 0,\n",
       " 'about money': 7,\n",
       " 'money cat': 29,\n",
       " 'cat _connector_': 15,\n",
       " '_connector_ the': 2,\n",
       " 'the hat': 44,\n",
       " 'hat learn': 22,\n",
       " 'learn librari': 27,\n",
       " 'insid your': 26,\n",
       " 'your outsid': 50,\n",
       " 'outsid _connector_': 37,\n",
       " 'about _connector_': 5,\n",
       " '_connector_ human': 1,\n",
       " 'human bodi': 24,\n",
       " 'bodi cat': 12,\n",
       " 'oh _connector_': 32,\n",
       " '_connector_ thing': 3,\n",
       " 'thing you': 46,\n",
       " 'you can': 49,\n",
       " 'can do': 14,\n",
       " 'do that': 20,\n",
       " 'that are': 43,\n",
       " 'are good': 10,\n",
       " 'good _connector_': 21,\n",
       " '_connector_ you': 4,\n",
       " 'you _connector_': 48,\n",
       " 'about stay': 9,\n",
       " 'stay healthi': 41,\n",
       " 'healthi cat': 23,\n",
       " 'on beyond': 34,\n",
       " 'beyond bug': 11,\n",
       " 'bug _connector_': 13,\n",
       " 'about insect': 6,\n",
       " 'insect cat': 25,\n",
       " 'there no': 45,\n",
       " 'no place': 31,\n",
       " 'place like': 38,\n",
       " 'like space': 28,\n",
       " 'space _connector_': 40,\n",
       " 'about our': 8,\n",
       " 'our solar': 36,\n",
       " 'solar system': 39,\n",
       " 'system cat': 42}"
      ]
     },
     "execution_count": 31,
     "metadata": {},
     "output_type": "execute_result"
    }
   ],
   "source": [
    "cv.vocabulary_"
   ]
  },
  {
   "cell_type": "code",
   "execution_count": null,
   "metadata": {},
   "outputs": [],
   "source": []
  }
 ],
 "metadata": {
  "kernelspec": {
   "display_name": "Python 3",
   "language": "python",
   "name": "python3"
  },
  "language_info": {
   "codemirror_mode": {
    "name": "ipython",
    "version": 3
   },
   "file_extension": ".py",
   "mimetype": "text/x-python",
   "name": "python",
   "nbconvert_exporter": "python",
   "pygments_lexer": "ipython3",
   "version": "3.8.5"
  }
 },
 "nbformat": 4,
 "nbformat_minor": 4
}
