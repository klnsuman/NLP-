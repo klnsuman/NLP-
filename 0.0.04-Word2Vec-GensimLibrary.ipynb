{
 "cells": [
  {
   "cell_type": "code",
   "execution_count": null,
   "metadata": {},
   "outputs": [],
   "source": [
    "\n",
    "import numpy as np\n",
    "from sklearn.manifold import TSNE\n",
    "\n",
    "# imports needed and set up logging\n",
    "import gzip\n",
    "import gensim \n",
    "import logging\n"
   ]
  },
  {
   "cell_type": "code",
   "execution_count": null,
   "metadata": {},
   "outputs": [],
   "source": [
    "#import gensim.downloader as api\n",
    "#word2vec_model = api.load('word2vec-google-news-300')"
   ]
  },
  {
   "cell_type": "code",
   "execution_count": 2,
   "metadata": {},
   "outputs": [
    {
     "name": "stdout",
     "output_type": "stream",
     "text": [
      "total 435160\r\n",
      "-rw-r--r--@  1 klrao  staff       5457 Apr  9  2018 natural-language-data.txt\r\n",
      "-rw-r--r--   1 klrao  staff       3047 Feb 19  2021 pipeLine-Ex.ipynb\r\n",
      "-rw-r--r--@  1 klrao  staff     164733 Feb 19  2021 tweets.csv\r\n",
      "-rw-r--r--@  1 klrao  staff     192060 Sep 13 12:31 sentiment-analysis.ipynb\r\n",
      "-rw-r--r--   1 klrao  staff      12118 Sep 15 08:43 Practice-TweetAnalysis.ipynb\r\n",
      "-rw-r--r--   1 klrao  staff      66065 Sep 15 10:53 Hands-On-NLP-Read-File.ipynb\r\n",
      "-rw-r--r--   1 klrao  staff       8026 Sep 15 14:48 0.1.02-Sam-Ham-Basic-2Method.ipynb\r\n",
      "-rw-r--r--   1 klrao  staff      51214 Sep 16 11:03 0.1.01-Sam-Ham-Basic-CollectionsCounter.ipynb\r\n",
      "-rw-r--r--   1 klrao  staff      22076 Sep 16 20:08 MovieReviews.ipynb\r\n",
      "-rw-r--r--   1 klrao  staff      10709 Sep 16 20:30 vectoriser-tfidf-countvectorizer.ipynb\r\n",
      "drwxr-xr-x   3 klrao  staff         96 Sep 16 20:31 \u001b[34mdata\u001b[m\u001b[m\r\n",
      "-rw-r--r--   1 klrao  staff      71627 Sep 16 21:10 TextClassification.ipynb\r\n",
      "-rw-r--r--@  1 klrao  staff    7571363 Sep 18 08:45 moviereviews.tsv\r\n",
      "-rw-r--r--   1 klrao  staff         50 Sep 18 17:08 text1.txt\r\n",
      "-rw-r--r--   1 klrao  staff      17367 Sep 18 17:48 0.0.01-NLP-Basics.ipynb\r\n",
      "-rw-r--r--   1 klrao  staff      12377 Sep 20 20:10 0.0.02-Spacy-Basics.ipynb\r\n",
      "drwxr-xr-x@  6 klrao  staff        192 Oct  2 11:15 \u001b[34menron1\u001b[m\u001b[m\r\n",
      "-rw-r--r--@  1 klrao  staff   26966759 Oct  3 17:07 archive.zip\r\n",
      "drwx------  23 klrao  staff        736 Oct  3 17:10 \u001b[34marchive\u001b[m\u001b[m\r\n",
      "-rw-r--r--   1 klrao  staff      18403 Oct  3 17:49 0.0.03-LDA-Topic-Modelling.ipynb\r\n",
      "-rw-r--r--   1 klrao  staff        836 Oct  3 22:11 Untitled.ipynb\r\n",
      "-rw-r--r--   1 klrao  staff        555 Oct  4 15:47 Untitled1.ipynb\r\n",
      "-rw-r--r--@  1 klrao  staff   45409631 Oct  4 17:52 reviews_Cell_Phones_and_Accessories_5.json.gz\r\n",
      "-rw-r--r--@  1 klrao  staff  141690237 Oct  4 17:53 reviews_Cell_Phones_and_Accessories_5.json\r\n",
      "-rw-r--r--   1 klrao  staff       1383 Oct  4 17:56 0.0.04-Word2Vec-GensimLibrary.ipynb\r\n"
     ]
    }
   ],
   "source": [
    "!ls -lrt"
   ]
  },
  {
   "cell_type": "code",
   "execution_count": 3,
   "metadata": {},
   "outputs": [
    {
     "ename": "NameError",
     "evalue": "name 'pd' is not defined",
     "output_type": "error",
     "traceback": [
      "\u001b[0;31m---------------------------------------------------------------------------\u001b[0m",
      "\u001b[0;31mNameError\u001b[0m                                 Traceback (most recent call last)",
      "\u001b[0;32m<ipython-input-3-c30acd623e59>\u001b[0m in \u001b[0;36m<module>\u001b[0;34m\u001b[0m\n\u001b[0;32m----> 1\u001b[0;31m \u001b[0mdf\u001b[0m \u001b[0;34m=\u001b[0m \u001b[0mpd\u001b[0m\u001b[0;34m.\u001b[0m\u001b[0mread_json\u001b[0m\u001b[0;34m(\u001b[0m\u001b[0;34m\"reviews_Cell_Phones_and_Accessories_5.json\"\u001b[0m\u001b[0;34m,\u001b[0m\u001b[0mlines\u001b[0m\u001b[0;34m=\u001b[0m\u001b[0;32mTrue\u001b[0m\u001b[0;34m)\u001b[0m\u001b[0;34m\u001b[0m\u001b[0;34m\u001b[0m\u001b[0m\n\u001b[0m\u001b[1;32m      2\u001b[0m \u001b[0mdf\u001b[0m\u001b[0;34m.\u001b[0m\u001b[0mhead\u001b[0m\u001b[0;34m(\u001b[0m\u001b[0;34m)\u001b[0m\u001b[0;34m\u001b[0m\u001b[0;34m\u001b[0m\u001b[0m\n",
      "\u001b[0;31mNameError\u001b[0m: name 'pd' is not defined"
     ]
    }
   ],
   "source": [
    "df = pd.read_json(\"reviews_Cell_Phones_and_Accessories_5.json\",lines=True)\n",
    "df.head()"
   ]
  },
  {
   "cell_type": "code",
   "execution_count": null,
   "metadata": {},
   "outputs": [],
   "source": []
  }
 ],
 "metadata": {
  "kernelspec": {
   "display_name": "Python 3",
   "language": "python",
   "name": "python3"
  },
  "language_info": {
   "codemirror_mode": {
    "name": "ipython",
    "version": 3
   },
   "file_extension": ".py",
   "mimetype": "text/x-python",
   "name": "python",
   "nbconvert_exporter": "python",
   "pygments_lexer": "ipython3",
   "version": "3.8.5"
  }
 },
 "nbformat": 4,
 "nbformat_minor": 4
}
