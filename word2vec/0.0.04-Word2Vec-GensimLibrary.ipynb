{
 "cells": [
  {
   "cell_type": "code",
   "execution_count": 1,
   "metadata": {},
   "outputs": [],
   "source": [
    "\n",
    "import numpy as np\n",
    "from sklearn.manifold import TSNE\n",
    "\n",
    "# imports needed and set up logging\n",
    "import gzip\n",
    "import gensim \n",
    "import logging\n"
   ]
  },
  {
   "cell_type": "code",
   "execution_count": 3,
   "metadata": {},
   "outputs": [],
   "source": [
    "#import gensim.downloader as api\n",
    "#word2vec_model = api.load('word2vec-google-news-300')\n",
    "import pandas as pd"
   ]
  },
  {
   "cell_type": "code",
   "execution_count": 5,
   "metadata": {},
   "outputs": [
    {
     "name": "stdout",
     "output_type": "stream",
     "text": [
      "total 37072\r\n",
      "-rw-r--r--   1 klrao  staff      3047 Feb 19  2021 pipeLine-Ex.ipynb\r\n",
      "-rw-r--r--@  1 klrao  staff    164733 Feb 19  2021 tweets.csv\r\n",
      "-rw-r--r--   1 klrao  staff     12118 Sep 15 08:43 Practice-TweetAnalysis.ipynb\r\n",
      "-rw-r--r--   1 klrao  staff     66065 Sep 15 10:53 Hands-On-NLP-Read-File.ipynb\r\n",
      "-rw-r--r--   1 klrao  staff      8026 Sep 15 14:48 0.1.02-Sam-Ham-Basic-2Method.ipynb\r\n",
      "-rw-r--r--   1 klrao  staff     51214 Sep 16 11:03 0.1.01-Sam-Ham-Basic-CollectionsCounter.ipynb\r\n",
      "-rw-r--r--   1 klrao  staff     22076 Sep 16 20:08 MovieReviews.ipynb\r\n",
      "-rw-r--r--   1 klrao  staff     71627 Sep 16 21:10 TextClassification.ipynb\r\n",
      "-rw-r--r--   1 klrao  staff     17367 Sep 18 17:48 0.0.01-NLP-Basics.ipynb\r\n",
      "drwxr-xr-x@  6 klrao  staff       192 Oct  2 11:15 \u001b[34menron1\u001b[m\u001b[m\r\n",
      "drwx------  23 klrao  staff       736 Oct  3 17:10 \u001b[34marchive\u001b[m\u001b[m\r\n",
      "-rw-r--r--   1 klrao  staff     18403 Oct  3 17:49 0.0.03-LDA-Topic-Modelling.ipynb\r\n",
      "-rw-r--r--   1 klrao  staff       836 Oct  3 22:11 0.0.999_filetext.ipynb\r\n",
      "-rw-r--r--@  1 klrao  staff    131467 Oct  6 16:35 Text Summarization (1).ipynb\r\n",
      "-rw-r--r--   1 klrao  staff     55401 Oct 11 12:27 0.1.01-TextSummarization-SpacyBasic-1.ipynb\r\n",
      "-rw-r--r--   1 klrao  staff       576 Oct 11 14:21 0.0.06-Word2Vec-SkpGram-HandsOnNLP.ipynb\r\n",
      "-rw-r--r--   1 klrao  staff      1049 Oct 11 15:25 0.2.01-TextSummarization-UsingAttention.ipynb\r\n",
      "drwxr-xr-x   4 klrao  staff       128 Oct 15 21:22 \u001b[34minput\u001b[m\u001b[m\r\n",
      "drwxr-xr-x   3 klrao  staff        96 Oct 17 17:25 \u001b[34mresources\u001b[m\u001b[m\r\n",
      "-rw-r--r--   1 klrao  staff  16699493 Oct 18 07:42 0.0.06-Word2Vec-TextClassification.ipynb\r\n",
      "-rw-r--r--   1 klrao  staff      5881 Nov 20 19:56 CosineSimilarity.ipynb\r\n",
      "-rw-r--r--   1 klrao  staff     12377 Dec  3 07:46 0.0.02-Spacy-Basics.ipynb\r\n",
      "-rw-r--r--   1 klrao  staff     12886 Dec 16 10:53 0.1.03-vectoriser-tfidf-countvectorizer.ipynb\r\n",
      "-rw-r--r--   1 klrao  staff     22094 Dec 16 16:09 0.1.05-TF-IDF_Vectorizer.ipynbtf-transformer-vectorizer.ipynb\r\n",
      "-rw-r--r--   1 klrao  staff       576 Dec 16 19:40 Untitled.ipynb\r\n",
      "-rw-r--r--@  1 klrao  staff     28618 Dec 24 13:31 Assignment_NLP_Grp160.ipynb\r\n",
      "drwxr-xr-x  14 klrao  staff       448 Dec 26 19:18 \u001b[34mdata\u001b[m\u001b[m\r\n",
      "-rw-r--r--@  1 klrao  staff    152637 Dec 26 19:41 sentiment-analysis.ipynb\r\n",
      "-rw-r--r--@  1 klrao  staff    390017 Dec 26 19:59 Train.txt\r\n",
      "-rw-r--r--@  1 klrao  staff    170397 Dec 26 20:02 Test.txt\r\n",
      "-rw-r--r--@  1 klrao  staff    390814 Dec 26 20:08 Train.csv\r\n",
      "-rw-r--r--@  1 klrao  staff     41175 Dec 26 20:12 CrossValidate.csv\r\n",
      "-rw-r--r--@  1 klrao  staff    170834 Dec 26 20:14 Test.csv\r\n",
      "-rw-r--r--   1 klrao  staff    143233 Dec 26 22:55 0.0.05-Word2Vec-Gensim-Classification.ipynb\r\n",
      "-rw-r--r--   1 klrao  staff     25203 Jan 17 08:49 0.1.04-TF-IDF_Vectorizer.ipynb\r\n",
      "-rw-r--r--   1 klrao  staff     13206 Jan 19 08:56 0.0.04-Word2Vec-GensimLibrary.ipynb\r\n"
     ]
    }
   ],
   "source": [
    "\n",
    "!ls -lrt"
   ]
  },
  {
   "cell_type": "code",
   "execution_count": 8,
   "metadata": {},
   "outputs": [],
   "source": [
    "import os\n",
    "os.chdir('/Users/klrao/0.3.01_NLP/data/')"
   ]
  },
  {
   "cell_type": "code",
   "execution_count": 9,
   "metadata": {},
   "outputs": [
    {
     "data": {
      "text/plain": [
       "['reviews_Cell_Phones_and_Accessories_5.json.gz',\n",
       " 'Reviews.csv',\n",
       " 'stackoverflow-data-idf.json',\n",
       " '.DS_Store',\n",
       " 'concrete_data.csv',\n",
       " 'news_category_dataset.json',\n",
       " 'reviews_Cell_Phones_and_Accessories_5.json',\n",
       " 'natural-language-data.txt',\n",
       " 'moviereviews.tsv',\n",
       " 'text1.txt',\n",
       " 'stackoverflow-test.json',\n",
       " 'archive.zip']"
      ]
     },
     "execution_count": 9,
     "metadata": {},
     "output_type": "execute_result"
    }
   ],
   "source": [
    "os.listdir()"
   ]
  },
  {
   "cell_type": "code",
   "execution_count": 10,
   "metadata": {},
   "outputs": [
    {
     "data": {
      "text/html": [
       "<div>\n",
       "<style scoped>\n",
       "    .dataframe tbody tr th:only-of-type {\n",
       "        vertical-align: middle;\n",
       "    }\n",
       "\n",
       "    .dataframe tbody tr th {\n",
       "        vertical-align: top;\n",
       "    }\n",
       "\n",
       "    .dataframe thead th {\n",
       "        text-align: right;\n",
       "    }\n",
       "</style>\n",
       "<table border=\"1\" class=\"dataframe\">\n",
       "  <thead>\n",
       "    <tr style=\"text-align: right;\">\n",
       "      <th></th>\n",
       "      <th>reviewerID</th>\n",
       "      <th>asin</th>\n",
       "      <th>reviewerName</th>\n",
       "      <th>helpful</th>\n",
       "      <th>reviewText</th>\n",
       "      <th>overall</th>\n",
       "      <th>summary</th>\n",
       "      <th>unixReviewTime</th>\n",
       "      <th>reviewTime</th>\n",
       "    </tr>\n",
       "  </thead>\n",
       "  <tbody>\n",
       "    <tr>\n",
       "      <th>0</th>\n",
       "      <td>A30TL5EWN6DFXT</td>\n",
       "      <td>120401325X</td>\n",
       "      <td>christina</td>\n",
       "      <td>[0, 0]</td>\n",
       "      <td>They look good and stick good! I just don't li...</td>\n",
       "      <td>4</td>\n",
       "      <td>Looks Good</td>\n",
       "      <td>1400630400</td>\n",
       "      <td>05 21, 2014</td>\n",
       "    </tr>\n",
       "    <tr>\n",
       "      <th>1</th>\n",
       "      <td>ASY55RVNIL0UD</td>\n",
       "      <td>120401325X</td>\n",
       "      <td>emily l.</td>\n",
       "      <td>[0, 0]</td>\n",
       "      <td>These stickers work like the review says they ...</td>\n",
       "      <td>5</td>\n",
       "      <td>Really great product.</td>\n",
       "      <td>1389657600</td>\n",
       "      <td>01 14, 2014</td>\n",
       "    </tr>\n",
       "    <tr>\n",
       "      <th>2</th>\n",
       "      <td>A2TMXE2AFO7ONB</td>\n",
       "      <td>120401325X</td>\n",
       "      <td>Erica</td>\n",
       "      <td>[0, 0]</td>\n",
       "      <td>These are awesome and make my phone look so st...</td>\n",
       "      <td>5</td>\n",
       "      <td>LOVE LOVE LOVE</td>\n",
       "      <td>1403740800</td>\n",
       "      <td>06 26, 2014</td>\n",
       "    </tr>\n",
       "    <tr>\n",
       "      <th>3</th>\n",
       "      <td>AWJ0WZQYMYFQ4</td>\n",
       "      <td>120401325X</td>\n",
       "      <td>JM</td>\n",
       "      <td>[4, 4]</td>\n",
       "      <td>Item arrived in great time and was in perfect ...</td>\n",
       "      <td>4</td>\n",
       "      <td>Cute!</td>\n",
       "      <td>1382313600</td>\n",
       "      <td>10 21, 2013</td>\n",
       "    </tr>\n",
       "    <tr>\n",
       "      <th>4</th>\n",
       "      <td>ATX7CZYFXI1KW</td>\n",
       "      <td>120401325X</td>\n",
       "      <td>patrice m rogoza</td>\n",
       "      <td>[2, 3]</td>\n",
       "      <td>awesome! stays on, and looks great. can be use...</td>\n",
       "      <td>5</td>\n",
       "      <td>leopard home button sticker for iphone 4s</td>\n",
       "      <td>1359849600</td>\n",
       "      <td>02 3, 2013</td>\n",
       "    </tr>\n",
       "  </tbody>\n",
       "</table>\n",
       "</div>"
      ],
      "text/plain": [
       "       reviewerID        asin      reviewerName helpful  \\\n",
       "0  A30TL5EWN6DFXT  120401325X         christina  [0, 0]   \n",
       "1   ASY55RVNIL0UD  120401325X          emily l.  [0, 0]   \n",
       "2  A2TMXE2AFO7ONB  120401325X             Erica  [0, 0]   \n",
       "3   AWJ0WZQYMYFQ4  120401325X                JM  [4, 4]   \n",
       "4   ATX7CZYFXI1KW  120401325X  patrice m rogoza  [2, 3]   \n",
       "\n",
       "                                          reviewText  overall  \\\n",
       "0  They look good and stick good! I just don't li...        4   \n",
       "1  These stickers work like the review says they ...        5   \n",
       "2  These are awesome and make my phone look so st...        5   \n",
       "3  Item arrived in great time and was in perfect ...        4   \n",
       "4  awesome! stays on, and looks great. can be use...        5   \n",
       "\n",
       "                                     summary  unixReviewTime   reviewTime  \n",
       "0                                 Looks Good      1400630400  05 21, 2014  \n",
       "1                      Really great product.      1389657600  01 14, 2014  \n",
       "2                             LOVE LOVE LOVE      1403740800  06 26, 2014  \n",
       "3                                      Cute!      1382313600  10 21, 2013  \n",
       "4  leopard home button sticker for iphone 4s      1359849600   02 3, 2013  "
      ]
     },
     "execution_count": 10,
     "metadata": {},
     "output_type": "execute_result"
    }
   ],
   "source": [
    "df = pd.read_json(\"reviews_Cell_Phones_and_Accessories_5.json\",lines=True)\n",
    "df.head()"
   ]
  },
  {
   "cell_type": "code",
   "execution_count": 12,
   "metadata": {},
   "outputs": [
    {
     "data": {
      "text/plain": [
       "(194439, 9)"
      ]
     },
     "execution_count": 12,
     "metadata": {},
     "output_type": "execute_result"
    }
   ],
   "source": [
    "df.shape"
   ]
  },
  {
   "cell_type": "code",
   "execution_count": 13,
   "metadata": {},
   "outputs": [
    {
     "data": {
      "text/plain": [
       "0         They look good and stick good! I just don't li...\n",
       "1         These stickers work like the review says they ...\n",
       "2         These are awesome and make my phone look so st...\n",
       "3         Item arrived in great time and was in perfect ...\n",
       "4         awesome! stays on, and looks great. can be use...\n",
       "                                ...                        \n",
       "194434    Works great just like my original one. I reall...\n",
       "194435    Great product. Great packaging. High quality a...\n",
       "194436    This is a great cable, just as good as the mor...\n",
       "194437    I really like it becasue it works well with my...\n",
       "194438    product as described, I have wasted a lot of m...\n",
       "Name: reviewText, Length: 194439, dtype: object"
      ]
     },
     "execution_count": 13,
     "metadata": {},
     "output_type": "execute_result"
    }
   ],
   "source": [
    "df.reviewText"
   ]
  },
  {
   "cell_type": "code",
   "execution_count": 14,
   "metadata": {},
   "outputs": [
    {
     "data": {
      "text/plain": [
       "\"They look good and stick good! I just don't like the rounded shape because I was always bumping it and Siri kept popping up and it was irritating. I just won't buy a product like this again\""
      ]
     },
     "execution_count": 14,
     "metadata": {},
     "output_type": "execute_result"
    }
   ],
   "source": [
    "df.reviewText[0]"
   ]
  },
  {
   "cell_type": "code",
   "execution_count": 16,
   "metadata": {},
   "outputs": [
    {
     "data": {
      "text/plain": [
       "['they',\n",
       " 'look',\n",
       " 'good',\n",
       " 'and',\n",
       " 'stick',\n",
       " 'good',\n",
       " 'just',\n",
       " 'don',\n",
       " 'like',\n",
       " 'the',\n",
       " 'rounded',\n",
       " 'shape',\n",
       " 'because',\n",
       " 'was',\n",
       " 'always',\n",
       " 'bumping',\n",
       " 'it',\n",
       " 'and',\n",
       " 'siri',\n",
       " 'kept',\n",
       " 'popping',\n",
       " 'up',\n",
       " 'and',\n",
       " 'it',\n",
       " 'was',\n",
       " 'irritating',\n",
       " 'just',\n",
       " 'won',\n",
       " 'buy',\n",
       " 'product',\n",
       " 'like',\n",
       " 'this',\n",
       " 'again']"
      ]
     },
     "execution_count": 16,
     "metadata": {},
     "output_type": "execute_result"
    }
   ],
   "source": [
    "gensim.utils.simple_preprocess(\"They look good and stick good! I just don't like the rounded shape because I was always bumping it and Siri kept popping up and it was irritating. I just won't buy a product like this again\")"
   ]
  },
  {
   "cell_type": "code",
   "execution_count": 17,
   "metadata": {},
   "outputs": [
    {
     "data": {
      "text/plain": [
       "0         [they, look, good, and, stick, good, just, don...\n",
       "1         [these, stickers, work, like, the, review, say...\n",
       "2         [these, are, awesome, and, make, my, phone, lo...\n",
       "3         [item, arrived, in, great, time, and, was, in,...\n",
       "4         [awesome, stays, on, and, looks, great, can, b...\n",
       "                                ...                        \n",
       "194434    [works, great, just, like, my, original, one, ...\n",
       "194435    [great, product, great, packaging, high, quali...\n",
       "194436    [this, is, great, cable, just, as, good, as, t...\n",
       "194437    [really, like, it, becasue, it, works, well, w...\n",
       "194438    [product, as, described, have, wasted, lot, of...\n",
       "Name: reviewText, Length: 194439, dtype: object"
      ]
     },
     "execution_count": 17,
     "metadata": {},
     "output_type": "execute_result"
    }
   ],
   "source": [
    "review_text = df.reviewText.apply(gensim.utils.simple_preprocess)\n",
    "review_text"
   ]
  },
  {
   "cell_type": "code",
   "execution_count": 19,
   "metadata": {},
   "outputs": [],
   "source": [
    "model = gensim.models.Word2Vec(\n",
    "    window=10,\n",
    "    min_count=2,\n",
    "    workers=4\n",
    ")"
   ]
  },
  {
   "cell_type": "code",
   "execution_count": 20,
   "metadata": {},
   "outputs": [],
   "source": [
    "model.build_vocab(review_text,progress_per=1000)"
   ]
  },
  {
   "cell_type": "code",
   "execution_count": 21,
   "metadata": {},
   "outputs": [
    {
     "data": {
      "text/plain": [
       "5"
      ]
     },
     "execution_count": 21,
     "metadata": {},
     "output_type": "execute_result"
    }
   ],
   "source": [
    "model.epochs"
   ]
  },
  {
   "cell_type": "code",
   "execution_count": 22,
   "metadata": {},
   "outputs": [
    {
     "data": {
      "text/plain": [
       "(61507064, 83868975)"
      ]
     },
     "execution_count": 22,
     "metadata": {},
     "output_type": "execute_result"
    }
   ],
   "source": [
    "model.train(review_text,total_examples=model.corpus_count,epochs=model.epochs)"
   ]
  },
  {
   "cell_type": "code",
   "execution_count": 23,
   "metadata": {},
   "outputs": [],
   "source": [
    "model.save(\"./word2vec-amazon-cell-accessories-reviews-short.model\")"
   ]
  },
  {
   "cell_type": "code",
   "execution_count": 25,
   "metadata": {},
   "outputs": [
    {
     "data": {
      "text/plain": [
       "1.0"
      ]
     },
     "execution_count": 25,
     "metadata": {},
     "output_type": "execute_result"
    }
   ],
   "source": [
    "model.wv.similarity(w1=\"great\",w2=\"great\")"
   ]
  },
  {
   "cell_type": "code",
   "execution_count": 26,
   "metadata": {},
   "outputs": [
    {
     "data": {
      "text/plain": [
       "0.47703198"
      ]
     },
     "execution_count": 26,
     "metadata": {},
     "output_type": "execute_result"
    }
   ],
   "source": [
    "model.wv.similarity(w1=\"cheap\",w2=\"expensive\")"
   ]
  },
  {
   "cell_type": "code",
   "execution_count": 28,
   "metadata": {},
   "outputs": [
    {
     "data": {
      "text/plain": [
       "(100,)"
      ]
     },
     "execution_count": 28,
     "metadata": {},
     "output_type": "execute_result"
    }
   ],
   "source": [
    "model.wv['computer'].shape"
   ]
  }
 ],
 "metadata": {
  "kernelspec": {
   "display_name": "Python 3",
   "language": "python",
   "name": "python3"
  },
  "language_info": {
   "codemirror_mode": {
    "name": "ipython",
    "version": 3
   },
   "file_extension": ".py",
   "mimetype": "text/x-python",
   "name": "python",
   "nbconvert_exporter": "python",
   "pygments_lexer": "ipython3",
   "version": "3.8.8"
  }
 },
 "nbformat": 4,
 "nbformat_minor": 4
}
