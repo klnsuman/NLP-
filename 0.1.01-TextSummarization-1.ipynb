{
 "cells": [
  {
   "cell_type": "markdown",
   "id": "ccf04a84",
   "metadata": {},
   "source": [
    "# Text Summarization using Spacy "
   ]
  },
  {
   "cell_type": "code",
   "execution_count": 8,
   "id": "a1fec77e",
   "metadata": {},
   "outputs": [
    {
     "name": "stdout",
     "output_type": "stream",
     "text": [
      "Requirement already satisfied: spacy in /Users/klrao/opt/anaconda3/lib/python3.8/site-packages (3.1.3)\n",
      "Requirement already satisfied: wasabi<1.1.0,>=0.8.1 in /Users/klrao/opt/anaconda3/lib/python3.8/site-packages (from spacy) (0.8.2)\n",
      "Requirement already satisfied: catalogue<2.1.0,>=2.0.6 in /Users/klrao/opt/anaconda3/lib/python3.8/site-packages (from spacy) (2.0.6)\n",
      "Requirement already satisfied: jinja2 in /Users/klrao/opt/anaconda3/lib/python3.8/site-packages (from spacy) (2.11.3)\n",
      "Requirement already satisfied: packaging>=20.0 in /Users/klrao/opt/anaconda3/lib/python3.8/site-packages (from spacy) (20.9)\n",
      "Requirement already satisfied: spacy-legacy<3.1.0,>=3.0.8 in /Users/klrao/opt/anaconda3/lib/python3.8/site-packages (from spacy) (3.0.8)\n",
      "Requirement already satisfied: srsly<3.0.0,>=2.4.1 in /Users/klrao/opt/anaconda3/lib/python3.8/site-packages (from spacy) (2.4.1)\n",
      "Requirement already satisfied: tqdm<5.0.0,>=4.38.0 in /Users/klrao/opt/anaconda3/lib/python3.8/site-packages (from spacy) (4.59.0)\n",
      "Requirement already satisfied: preshed<3.1.0,>=3.0.2 in /Users/klrao/opt/anaconda3/lib/python3.8/site-packages (from spacy) (3.0.5)\n",
      "Requirement already satisfied: blis<0.8.0,>=0.4.0 in /Users/klrao/opt/anaconda3/lib/python3.8/site-packages (from spacy) (0.7.4)\n",
      "Requirement already satisfied: setuptools in /Users/klrao/opt/anaconda3/lib/python3.8/site-packages (from spacy) (52.0.0.post20210125)\n",
      "Requirement already satisfied: thinc<8.1.0,>=8.0.9 in /Users/klrao/opt/anaconda3/lib/python3.8/site-packages (from spacy) (8.0.10)\n",
      "Requirement already satisfied: typer<0.5.0,>=0.3.0 in /Users/klrao/opt/anaconda3/lib/python3.8/site-packages (from spacy) (0.4.0)\n",
      "Requirement already satisfied: cymem<2.1.0,>=2.0.2 in /Users/klrao/opt/anaconda3/lib/python3.8/site-packages (from spacy) (2.0.5)\n",
      "Requirement already satisfied: murmurhash<1.1.0,>=0.28.0 in /Users/klrao/opt/anaconda3/lib/python3.8/site-packages (from spacy) (1.0.5)\n",
      "Requirement already satisfied: numpy>=1.15.0 in /Users/klrao/opt/anaconda3/lib/python3.8/site-packages (from spacy) (1.20.1)\n",
      "Requirement already satisfied: pydantic!=1.8,!=1.8.1,<1.9.0,>=1.7.4 in /Users/klrao/opt/anaconda3/lib/python3.8/site-packages (from spacy) (1.8.2)\n",
      "Requirement already satisfied: requests<3.0.0,>=2.13.0 in /Users/klrao/opt/anaconda3/lib/python3.8/site-packages (from spacy) (2.25.1)\n",
      "Requirement already satisfied: pathy>=0.3.5 in /Users/klrao/opt/anaconda3/lib/python3.8/site-packages (from spacy) (0.6.0)\n",
      "Requirement already satisfied: pyparsing>=2.0.2 in /Users/klrao/opt/anaconda3/lib/python3.8/site-packages (from packaging>=20.0->spacy) (2.4.7)\n",
      "Requirement already satisfied: smart-open<6.0.0,>=5.0.0 in /Users/klrao/opt/anaconda3/lib/python3.8/site-packages (from pathy>=0.3.5->spacy) (5.2.1)\n",
      "Requirement already satisfied: typing-extensions>=3.7.4.3 in /Users/klrao/opt/anaconda3/lib/python3.8/site-packages (from pydantic!=1.8,!=1.8.1,<1.9.0,>=1.7.4->spacy) (3.7.4.3)\n",
      "Requirement already satisfied: certifi>=2017.4.17 in /Users/klrao/opt/anaconda3/lib/python3.8/site-packages (from requests<3.0.0,>=2.13.0->spacy) (2020.12.5)\n",
      "Requirement already satisfied: chardet<5,>=3.0.2 in /Users/klrao/opt/anaconda3/lib/python3.8/site-packages (from requests<3.0.0,>=2.13.0->spacy) (4.0.0)\n",
      "Requirement already satisfied: idna<3,>=2.5 in /Users/klrao/opt/anaconda3/lib/python3.8/site-packages (from requests<3.0.0,>=2.13.0->spacy) (2.10)\n",
      "Requirement already satisfied: urllib3<1.27,>=1.21.1 in /Users/klrao/opt/anaconda3/lib/python3.8/site-packages (from requests<3.0.0,>=2.13.0->spacy) (1.26.4)\n",
      "Requirement already satisfied: click<9.0.0,>=7.1.1 in /Users/klrao/opt/anaconda3/lib/python3.8/site-packages (from typer<0.5.0,>=0.3.0->spacy) (7.1.2)\n",
      "Requirement already satisfied: MarkupSafe>=0.23 in /Users/klrao/opt/anaconda3/lib/python3.8/site-packages (from jinja2->spacy) (1.1.1)\n"
     ]
    }
   ],
   "source": [
    "!pip install -U spacy"
   ]
  },
  {
   "cell_type": "code",
   "execution_count": 5,
   "id": "f9f21701",
   "metadata": {},
   "outputs": [],
   "source": [
    "import spacy\n",
    "from spacy.lang.en.stop_words import STOP_WORDS\n",
    "from string import punctuation"
   ]
  },
  {
   "cell_type": "code",
   "execution_count": 12,
   "id": "3b876006",
   "metadata": {},
   "outputs": [],
   "source": [
    "stopwords = list(STOP_WORDS)\n",
    "nlp = spacy.load('en_core_web_sm')"
   ]
  },
  {
   "cell_type": "code",
   "execution_count": 13,
   "id": "7dadeb56",
   "metadata": {},
   "outputs": [],
   "source": [
    "original_text = 'Junk foods taste good that’s why it is mostly liked by everyone of any age group especially kids and school going children. They generally ask for the junk food daily because they have been trend so by their parents from the childhood. They never have been discussed by their parents about the harmful effects of junk foods over health. According to the research by scientists, it has been found that junk foods have negative effects on the health in many ways. They are generally fried food found in the market in the packets. They become high in calories, high in cholesterol, low in healthy nutrients, high in sodium mineral, high in sugar, starch, unhealthy fat, lack of protein and lack of dietary fibers. Processed and junk foods are the means of rapid and unhealthy weight gain and negatively impact the whole body throughout the life. It makes able a person to gain excessive weight which is called as obesity. Junk foods tastes good and looks good however do not fulfil the healthy calorie requirement of the body. Some of the foods like french fries, fried foods, pizza, burgers, candy, soft drinks, baked goods, ice cream, cookies, etc are the example of high-sugar and high-fat containing foods. It is found according to the Centres for Disease Control and Prevention that Kids and children eating junk food are more prone to the type-2 diabetes. In type-2 diabetes our body become unable to regulate blood sugar level. Risk of getting this disease is increasing as one become more obese or overweight. It increases the risk of kidney failure. Eating junk food daily lead us to the nutritional deficiencies in the body because it is lack of essential nutrients, vitamins, iron, minerals and dietary fibers. It increases risk of cardiovascular diseases because it is rich in saturated fat, sodium and bad cholesterol. High sodium and bad cholesterol diet increases blood pressure and overloads the heart functioning. One who like junk food develop more risk to put on extra weight and become fatter and unhealthier. Junk foods contain high level carbohydrate which spike blood sugar level and make person more lethargic, sleepy and less active and alert. Reflexes and senses of the people eating this food become dull day by day thus they live more sedentary life. Junk foods are the source of constipation and other disease like diabetes, heart ailments, clogged arteries, heart attack, strokes, etc because of being poor in nutrition. Junk food is the easiest way to gain unhealthy weight. The amount of fats and sugar in the food makes you gain weight rapidly. However, this is not a healthy weight. It is more of fats and cholesterol which will have a harmful impact on your health. Junk food is also one of the main reasons for the increase in obesity nowadays.This food only looks and tastes good, other than that, it has no positive points. The amount of calorie your body requires to stay fit is not fulfilled by this food. For instance, foods like French fries, burgers, candy, and cookies, all have high amounts of sugar and fats. Therefore, this can result in long-term illnesses like diabetes and high blood pressure. This may also result in kidney failure. Above all, you can get various nutritional deficiencies when you don’t consume the essential nutrients, vitamins, minerals and more. You become prone to cardiovascular diseases due to the consumption of bad cholesterol and fat plus sodium. In other words, all this interferes with the functioning of your heart. Furthermore, junk food contains a higher level of carbohydrates. It will instantly spike your blood sugar levels. This will result in lethargy, inactiveness, and sleepiness. A person reflex becomes dull overtime and they lead an inactive life. To make things worse, junk food also clogs your arteries and increases the risk of a heart attack. Therefore, it must be avoided at the first instance to save your life from becoming ruined.The main problem with junk food is that people don’t realize its ill effects now. When the time comes, it is too late. Most importantly, the issue is that it does not impact you instantly. It works on your overtime; you will face the consequences sooner or later. Thus, it is better to stop now.You can avoid junk food by encouraging your children from an early age to eat green vegetables. Their taste buds must be developed as such that they find healthy food tasty. Moreover, try to mix things up. Do not serve the same green vegetable daily in the same style. Incorporate different types of healthy food in their diet following different recipes. This will help them to try foods at home rather than being attracted to junk food.In short, do not deprive them completely of it as that will not help. Children will find one way or the other to have it. Make sure you give them junk food in limited quantities and at healthy periods of time. '"
   ]
  },
  {
   "cell_type": "code",
   "execution_count": 14,
   "id": "a67a558b",
   "metadata": {},
   "outputs": [],
   "source": [
    "doc = nlp(original_text)"
   ]
  },
  {
   "cell_type": "code",
   "execution_count": 16,
   "id": "83064151",
   "metadata": {},
   "outputs": [
    {
     "name": "stdout",
     "output_type": "stream",
     "text": [
      "['Junk', 'foods', 'taste', 'good', 'that', '’s', 'why', 'it', 'is', 'mostly', 'liked', 'by', 'everyone', 'of', 'any', 'age', 'group', 'especially', 'kids', 'and', 'school', 'going', 'children', '.', 'They', 'generally', 'ask', 'for', 'the', 'junk', 'food', 'daily', 'because', 'they', 'have', 'been', 'trend', 'so', 'by', 'their', 'parents', 'from', 'the', 'childhood', '.', 'They', 'never', 'have', 'been', 'discussed', 'by', 'their', 'parents', 'about', 'the', 'harmful', 'effects', 'of', 'junk', 'foods', 'over', 'health', '.', 'According', 'to', 'the', 'research', 'by', 'scientists', ',', 'it', 'has', 'been', 'found', 'that', 'junk', 'foods', 'have', 'negative', 'effects', 'on', 'the', 'health', 'in', 'many', 'ways', '.', 'They', 'are', 'generally', 'fried', 'food', 'found', 'in', 'the', 'market', 'in', 'the', 'packets', '.', 'They', 'become', 'high', 'in', 'calories', ',', 'high', 'in', 'cholesterol', ',', 'low', 'in', 'healthy', 'nutrients', ',', 'high', 'in', 'sodium', 'mineral', ',', 'high', 'in', 'sugar', ',', 'starch', ',', 'unhealthy', 'fat', ',', 'lack', 'of', 'protein', 'and', 'lack', 'of', 'dietary', 'fibers', '.', 'Processed', 'and', 'junk', 'foods', 'are', 'the', 'means', 'of', 'rapid', 'and', 'unhealthy', 'weight', 'gain', 'and', 'negatively', 'impact', 'the', 'whole', 'body', 'throughout', 'the', 'life', '.', 'It', 'makes', 'able', 'a', 'person', 'to', 'gain', 'excessive', 'weight', 'which', 'is', 'called', 'as', 'obesity', '.', 'Junk', 'foods', 'tastes', 'good', 'and', 'looks', 'good', 'however', 'do', 'not', 'fulfil', 'the', 'healthy', 'calorie', 'requirement', 'of', 'the', 'body', '.', 'Some', 'of', 'the', 'foods', 'like', 'french', 'fries', ',', 'fried', 'foods', ',', 'pizza', ',', 'burgers', ',', 'candy', ',', 'soft', 'drinks', ',', 'baked', 'goods', ',', 'ice', 'cream', ',', 'cookies', ',', 'etc', 'are', 'the', 'example', 'of', 'high', '-', 'sugar', 'and', 'high', '-', 'fat', 'containing', 'foods', '.', 'It', 'is', 'found', 'according', 'to', 'the', 'Centres', 'for', 'Disease', 'Control', 'and', 'Prevention', 'that', 'Kids', 'and', 'children', 'eating', 'junk', 'food', 'are', 'more', 'prone', 'to', 'the', 'type-2', 'diabetes', '.', 'In', 'type-2', 'diabetes', 'our', 'body', 'become', 'unable', 'to', 'regulate', 'blood', 'sugar', 'level', '.', 'Risk', 'of', 'getting', 'this', 'disease', 'is', 'increasing', 'as', 'one', 'become', 'more', 'obese', 'or', 'overweight', '.', 'It', 'increases', 'the', 'risk', 'of', 'kidney', 'failure', '.', 'Eating', 'junk', 'food', 'daily', 'lead', 'us', 'to', 'the', 'nutritional', 'deficiencies', 'in', 'the', 'body', 'because', 'it', 'is', 'lack', 'of', 'essential', 'nutrients', ',', 'vitamins', ',', 'iron', ',', 'minerals', 'and', 'dietary', 'fibers', '.', 'It', 'increases', 'risk', 'of', 'cardiovascular', 'diseases', 'because', 'it', 'is', 'rich', 'in', 'saturated', 'fat', ',', 'sodium', 'and', 'bad', 'cholesterol', '.', 'High', 'sodium', 'and', 'bad', 'cholesterol', 'diet', 'increases', 'blood', 'pressure', 'and', 'overloads', 'the', 'heart', 'functioning', '.', 'One', 'who', 'like', 'junk', 'food', 'develop', 'more', 'risk', 'to', 'put', 'on', 'extra', 'weight', 'and', 'become', 'fatter', 'and', 'unhealthier', '.', 'Junk', 'foods', 'contain', 'high', 'level', 'carbohydrate', 'which', 'spike', 'blood', 'sugar', 'level', 'and', 'make', 'person', 'more', 'lethargic', ',', 'sleepy', 'and', 'less', 'active', 'and', 'alert', '.', 'Reflexes', 'and', 'senses', 'of', 'the', 'people', 'eating', 'this', 'food', 'become', 'dull', 'day', 'by', 'day', 'thus', 'they', 'live', 'more', 'sedentary', 'life', '.', 'Junk', 'foods', 'are', 'the', 'source', 'of', 'constipation', 'and', 'other', 'disease', 'like', 'diabetes', ',', 'heart', 'ailments', ',', 'clogged', 'arteries', ',', 'heart', 'attack', ',', 'strokes', ',', 'etc', 'because', 'of', 'being', 'poor', 'in', 'nutrition', '.', 'Junk', 'food', 'is', 'the', 'easiest', 'way', 'to', 'gain', 'unhealthy', 'weight', '.', 'The', 'amount', 'of', 'fats', 'and', 'sugar', 'in', 'the', 'food', 'makes', 'you', 'gain', 'weight', 'rapidly', '.', 'However', ',', 'this', 'is', 'not', 'a', 'healthy', 'weight', '.', 'It', 'is', 'more', 'of', 'fats', 'and', 'cholesterol', 'which', 'will', 'have', 'a', 'harmful', 'impact', 'on', 'your', 'health', '.', 'Junk', 'food', 'is', 'also', 'one', 'of', 'the', 'main', 'reasons', 'for', 'the', 'increase', 'in', 'obesity', 'nowadays', '.', 'This', 'food', 'only', 'looks', 'and', 'tastes', 'good', ',', 'other', 'than', 'that', ',', 'it', 'has', 'no', 'positive', 'points', '.', 'The', 'amount', 'of', 'calorie', 'your', 'body', 'requires', 'to', 'stay', 'fit', 'is', 'not', 'fulfilled', 'by', 'this', 'food', '.', 'For', 'instance', ',', 'foods', 'like', 'French', 'fries', ',', 'burgers', ',', 'candy', ',', 'and', 'cookies', ',', 'all', 'have', 'high', 'amounts', 'of', 'sugar', 'and', 'fats', '.', 'Therefore', ',', 'this', 'can', 'result', 'in', 'long', '-', 'term', 'illnesses', 'like', 'diabetes', 'and', 'high', 'blood', 'pressure', '.', 'This', 'may', 'also', 'result', 'in', 'kidney', 'failure', '.', 'Above', 'all', ',', 'you', 'can', 'get', 'various', 'nutritional', 'deficiencies', 'when', 'you', 'do', 'n’t', 'consume', 'the', 'essential', 'nutrients', ',', 'vitamins', ',', 'minerals', 'and', 'more', '.', 'You', 'become', 'prone', 'to', 'cardiovascular', 'diseases', 'due', 'to', 'the', 'consumption', 'of', 'bad', 'cholesterol', 'and', 'fat', 'plus', 'sodium', '.', 'In', 'other', 'words', ',', 'all', 'this', 'interferes', 'with', 'the', 'functioning', 'of', 'your', 'heart', '.', 'Furthermore', ',', 'junk', 'food', 'contains', 'a', 'higher', 'level', 'of', 'carbohydrates', '.', 'It', 'will', 'instantly', 'spike', 'your', 'blood', 'sugar', 'levels', '.', 'This', 'will', 'result', 'in', 'lethargy', ',', 'inactiveness', ',', 'and', 'sleepiness', '.', 'A', 'person', 'reflex', 'becomes', 'dull', 'overtime', 'and', 'they', 'lead', 'an', 'inactive', 'life', '.', 'To', 'make', 'things', 'worse', ',', 'junk', 'food', 'also', 'clogs', 'your', 'arteries', 'and', 'increases', 'the', 'risk', 'of', 'a', 'heart', 'attack', '.', 'Therefore', ',', 'it', 'must', 'be', 'avoided', 'at', 'the', 'first', 'instance', 'to', 'save', 'your', 'life', 'from', 'becoming', 'ruined', '.', 'The', 'main', 'problem', 'with', 'junk', 'food', 'is', 'that', 'people', 'do', 'n’t', 'realize', 'its', 'ill', 'effects', 'now', '.', 'When', 'the', 'time', 'comes', ',', 'it', 'is', 'too', 'late', '.', 'Most', 'importantly', ',', 'the', 'issue', 'is', 'that', 'it', 'does', 'not', 'impact', 'you', 'instantly', '.', 'It', 'works', 'on', 'your', 'overtime', ';', 'you', 'will', 'face', 'the', 'consequences', 'sooner', 'or', 'later', '.', 'Thus', ',', 'it', 'is', 'better', 'to', 'stop', 'now', '.', 'You', 'can', 'avoid', 'junk', 'food', 'by', 'encouraging', 'your', 'children', 'from', 'an', 'early', 'age', 'to', 'eat', 'green', 'vegetables', '.', 'Their', 'taste', 'buds', 'must', 'be', 'developed', 'as', 'such', 'that', 'they', 'find', 'healthy', 'food', 'tasty', '.', 'Moreover', ',', 'try', 'to', 'mix', 'things', 'up', '.', 'Do', 'not', 'serve', 'the', 'same', 'green', 'vegetable', 'daily', 'in', 'the', 'same', 'style', '.', 'Incorporate', 'different', 'types', 'of', 'healthy', 'food', 'in', 'their', 'diet', 'following', 'different', 'recipes', '.', 'This', 'will', 'help', 'them', 'to', 'try', 'foods', 'at', 'home', 'rather', 'than', 'being', 'attracted', 'to', 'junk', 'food', '.', 'In', 'short', ',', 'do', 'not', 'deprive', 'them', 'completely', 'of', 'it', 'as', 'that', 'will', 'not', 'help', '.', 'Children', 'will', 'find', 'one', 'way', 'or', 'the', 'other', 'to', 'have', 'it', '.', 'Make', 'sure', 'you', 'give', 'them', 'junk', 'food', 'in', 'limited', 'quantities', 'and', 'at', 'healthy', 'periods', 'of', 'time', '.']\n"
     ]
    }
   ],
   "source": [
    "tokens = [token.text for token in doc]\n",
    "print(tokens)"
   ]
  },
  {
   "cell_type": "code",
   "execution_count": 18,
   "id": "11e92c55",
   "metadata": {},
   "outputs": [
    {
     "name": "stdout",
     "output_type": "stream",
     "text": [
      "!\"#$%&'()*+,-./:;<=>?@[\\]^_`{|}~\n",
      "\n",
      "\n"
     ]
    }
   ],
   "source": [
    "punctuation = punctuation + \"\\n\"\n",
    "print(punctuation)"
   ]
  },
  {
   "cell_type": "code",
   "execution_count": 24,
   "id": "741bf9fa",
   "metadata": {},
   "outputs": [],
   "source": [
    "word_frequencies = {}\n",
    "for word in doc:\n",
    "    if word.text.lower() not in stopwords:\n",
    "        if word.text.lower() not in punctuation:\n",
    "            if word.text not in word_frequencies.keys():\n",
    "                word_frequencies[word.text] =1\n",
    "            else:\n",
    "                word_frequencies[word.text] +=1"
   ]
  },
  {
   "cell_type": "code",
   "execution_count": 28,
   "id": "10961e4e",
   "metadata": {},
   "outputs": [
    {
     "data": {
      "text/plain": [
       "{'Junk': 6,\n",
       " 'foods': 12,\n",
       " 'taste': 2,\n",
       " 'good': 4,\n",
       " 'liked': 1,\n",
       " 'age': 2,\n",
       " 'group': 1,\n",
       " 'especially': 1,\n",
       " 'kids': 1,\n",
       " 'school': 1,\n",
       " 'going': 1,\n",
       " 'children': 3,\n",
       " 'generally': 2,\n",
       " 'ask': 1,\n",
       " 'junk': 13,\n",
       " 'food': 19,\n",
       " 'daily': 3,\n",
       " 'trend': 1,\n",
       " 'parents': 2,\n",
       " 'childhood': 1,\n",
       " 'discussed': 1,\n",
       " 'harmful': 2,\n",
       " 'effects': 3,\n",
       " 'health': 3,\n",
       " 'According': 1,\n",
       " 'research': 1,\n",
       " 'scientists': 1,\n",
       " 'found': 3,\n",
       " 'negative': 1,\n",
       " 'ways': 1,\n",
       " 'fried': 2,\n",
       " 'market': 1,\n",
       " 'packets': 1,\n",
       " 'high': 9,\n",
       " 'calories': 1,\n",
       " 'cholesterol': 5,\n",
       " 'low': 1,\n",
       " 'healthy': 6,\n",
       " 'nutrients': 3,\n",
       " 'sodium': 4,\n",
       " 'mineral': 1,\n",
       " 'sugar': 7,\n",
       " 'starch': 1,\n",
       " 'unhealthy': 3,\n",
       " 'fat': 4,\n",
       " 'lack': 3,\n",
       " 'protein': 1,\n",
       " 'dietary': 2,\n",
       " 'fibers': 2,\n",
       " 'Processed': 1,\n",
       " 'means': 1,\n",
       " 'rapid': 1,\n",
       " 'weight': 6,\n",
       " 'gain': 4,\n",
       " 'negatively': 1,\n",
       " 'impact': 3,\n",
       " 'body': 5,\n",
       " 'life': 4,\n",
       " 'makes': 2,\n",
       " 'able': 1,\n",
       " 'person': 3,\n",
       " 'excessive': 1,\n",
       " 'called': 1,\n",
       " 'obesity': 2,\n",
       " 'tastes': 2,\n",
       " 'looks': 2,\n",
       " 'fulfil': 1,\n",
       " 'calorie': 2,\n",
       " 'requirement': 1,\n",
       " 'like': 5,\n",
       " 'french': 1,\n",
       " 'fries': 2,\n",
       " 'pizza': 1,\n",
       " 'burgers': 2,\n",
       " 'candy': 2,\n",
       " 'soft': 1,\n",
       " 'drinks': 1,\n",
       " 'baked': 1,\n",
       " 'goods': 1,\n",
       " 'ice': 1,\n",
       " 'cream': 1,\n",
       " 'cookies': 2,\n",
       " 'etc': 2,\n",
       " 'example': 1,\n",
       " 'containing': 1,\n",
       " 'according': 1,\n",
       " 'Centres': 1,\n",
       " 'Disease': 1,\n",
       " 'Control': 1,\n",
       " 'Prevention': 1,\n",
       " 'Kids': 1,\n",
       " 'eating': 2,\n",
       " 'prone': 2,\n",
       " 'type-2': 2,\n",
       " 'diabetes': 4,\n",
       " 'unable': 1,\n",
       " 'regulate': 1,\n",
       " 'blood': 5,\n",
       " 'level': 4,\n",
       " 'Risk': 1,\n",
       " 'getting': 1,\n",
       " 'disease': 2,\n",
       " 'increasing': 1,\n",
       " 'obese': 1,\n",
       " 'overweight': 1,\n",
       " 'increases': 4,\n",
       " 'risk': 4,\n",
       " 'kidney': 2,\n",
       " 'failure': 2,\n",
       " 'Eating': 1,\n",
       " 'lead': 2,\n",
       " 'nutritional': 2,\n",
       " 'deficiencies': 2,\n",
       " 'essential': 2,\n",
       " 'vitamins': 2,\n",
       " 'iron': 1,\n",
       " 'minerals': 2,\n",
       " 'cardiovascular': 2,\n",
       " 'diseases': 2,\n",
       " 'rich': 1,\n",
       " 'saturated': 1,\n",
       " 'bad': 3,\n",
       " 'High': 1,\n",
       " 'diet': 2,\n",
       " 'pressure': 2,\n",
       " 'overloads': 1,\n",
       " 'heart': 5,\n",
       " 'functioning': 2,\n",
       " 'develop': 1,\n",
       " 'extra': 1,\n",
       " 'fatter': 1,\n",
       " 'unhealthier': 1,\n",
       " 'contain': 1,\n",
       " 'carbohydrate': 1,\n",
       " 'spike': 2,\n",
       " 'lethargic': 1,\n",
       " 'sleepy': 1,\n",
       " 'active': 1,\n",
       " 'alert': 1,\n",
       " 'Reflexes': 1,\n",
       " 'senses': 1,\n",
       " 'people': 2,\n",
       " 'dull': 2,\n",
       " 'day': 2,\n",
       " 'live': 1,\n",
       " 'sedentary': 1,\n",
       " 'source': 1,\n",
       " 'constipation': 1,\n",
       " 'ailments': 1,\n",
       " 'clogged': 1,\n",
       " 'arteries': 2,\n",
       " 'attack': 2,\n",
       " 'strokes': 1,\n",
       " 'poor': 1,\n",
       " 'nutrition': 1,\n",
       " 'easiest': 1,\n",
       " 'way': 2,\n",
       " 'fats': 3,\n",
       " 'rapidly': 1,\n",
       " 'main': 2,\n",
       " 'reasons': 1,\n",
       " 'increase': 1,\n",
       " 'nowadays': 1,\n",
       " 'positive': 1,\n",
       " 'points': 1,\n",
       " 'requires': 1,\n",
       " 'stay': 1,\n",
       " 'fit': 1,\n",
       " 'fulfilled': 1,\n",
       " 'instance': 2,\n",
       " 'French': 1,\n",
       " 'amounts': 1,\n",
       " 'result': 3,\n",
       " 'long': 1,\n",
       " 'term': 1,\n",
       " 'illnesses': 1,\n",
       " 'consume': 1,\n",
       " 'consumption': 1,\n",
       " 'plus': 1,\n",
       " 'words': 1,\n",
       " 'interferes': 1,\n",
       " 'Furthermore': 1,\n",
       " 'contains': 1,\n",
       " 'higher': 1,\n",
       " 'carbohydrates': 1,\n",
       " 'instantly': 2,\n",
       " 'levels': 1,\n",
       " 'lethargy': 1,\n",
       " 'inactiveness': 1,\n",
       " 'sleepiness': 1,\n",
       " 'reflex': 1,\n",
       " 'overtime': 2,\n",
       " 'inactive': 1,\n",
       " 'things': 2,\n",
       " 'worse': 1,\n",
       " 'clogs': 1,\n",
       " 'avoided': 1,\n",
       " 'save': 1,\n",
       " 'ruined': 1,\n",
       " 'problem': 1,\n",
       " 'realize': 1,\n",
       " 'ill': 1,\n",
       " 'time': 2,\n",
       " 'comes': 1,\n",
       " 'late': 1,\n",
       " 'importantly': 1,\n",
       " 'issue': 1,\n",
       " 'works': 1,\n",
       " 'face': 1,\n",
       " 'consequences': 1,\n",
       " 'sooner': 1,\n",
       " 'later': 1,\n",
       " 'better': 1,\n",
       " 'stop': 1,\n",
       " 'avoid': 1,\n",
       " 'encouraging': 1,\n",
       " 'early': 1,\n",
       " 'eat': 1,\n",
       " 'green': 2,\n",
       " 'vegetables': 1,\n",
       " 'buds': 1,\n",
       " 'developed': 1,\n",
       " 'find': 2,\n",
       " 'tasty': 1,\n",
       " 'try': 2,\n",
       " 'mix': 1,\n",
       " 'serve': 1,\n",
       " 'vegetable': 1,\n",
       " 'style': 1,\n",
       " 'Incorporate': 1,\n",
       " 'different': 2,\n",
       " 'types': 1,\n",
       " 'following': 1,\n",
       " 'recipes': 1,\n",
       " 'help': 2,\n",
       " 'home': 1,\n",
       " 'attracted': 1,\n",
       " 'short': 1,\n",
       " 'deprive': 1,\n",
       " 'completely': 1,\n",
       " 'Children': 1,\n",
       " 'sure': 1,\n",
       " 'limited': 1,\n",
       " 'quantities': 1,\n",
       " 'periods': 1}"
      ]
     },
     "execution_count": 28,
     "metadata": {},
     "output_type": "execute_result"
    }
   ],
   "source": [
    "word_frequencies"
   ]
  },
  {
   "cell_type": "code",
   "execution_count": 29,
   "id": "baf9c717",
   "metadata": {},
   "outputs": [],
   "source": [
    "max_freq = max(word_frequencies.values())"
   ]
  },
  {
   "cell_type": "code",
   "execution_count": 30,
   "id": "5d324625",
   "metadata": {},
   "outputs": [
    {
     "data": {
      "text/plain": [
       "19"
      ]
     },
     "execution_count": 30,
     "metadata": {},
     "output_type": "execute_result"
    }
   ],
   "source": [
    "max_freq"
   ]
  },
  {
   "cell_type": "code",
   "execution_count": 31,
   "id": "06e0228c",
   "metadata": {},
   "outputs": [],
   "source": [
    "for word in word_frequencies.keys():\n",
    "    word_frequencies[word] = word_frequencies[word] / max_freq"
   ]
  },
  {
   "cell_type": "code",
   "execution_count": 32,
   "id": "580767d4",
   "metadata": {},
   "outputs": [
    {
     "data": {
      "text/plain": [
       "{'Junk': 0.3157894736842105,\n",
       " 'foods': 0.631578947368421,\n",
       " 'taste': 0.10526315789473684,\n",
       " 'good': 0.21052631578947367,\n",
       " 'liked': 0.05263157894736842,\n",
       " 'age': 0.10526315789473684,\n",
       " 'group': 0.05263157894736842,\n",
       " 'especially': 0.05263157894736842,\n",
       " 'kids': 0.05263157894736842,\n",
       " 'school': 0.05263157894736842,\n",
       " 'going': 0.05263157894736842,\n",
       " 'children': 0.15789473684210525,\n",
       " 'generally': 0.10526315789473684,\n",
       " 'ask': 0.05263157894736842,\n",
       " 'junk': 0.6842105263157895,\n",
       " 'food': 1.0,\n",
       " 'daily': 0.15789473684210525,\n",
       " 'trend': 0.05263157894736842,\n",
       " 'parents': 0.10526315789473684,\n",
       " 'childhood': 0.05263157894736842,\n",
       " 'discussed': 0.05263157894736842,\n",
       " 'harmful': 0.10526315789473684,\n",
       " 'effects': 0.15789473684210525,\n",
       " 'health': 0.15789473684210525,\n",
       " 'According': 0.05263157894736842,\n",
       " 'research': 0.05263157894736842,\n",
       " 'scientists': 0.05263157894736842,\n",
       " 'found': 0.15789473684210525,\n",
       " 'negative': 0.05263157894736842,\n",
       " 'ways': 0.05263157894736842,\n",
       " 'fried': 0.10526315789473684,\n",
       " 'market': 0.05263157894736842,\n",
       " 'packets': 0.05263157894736842,\n",
       " 'high': 0.47368421052631576,\n",
       " 'calories': 0.05263157894736842,\n",
       " 'cholesterol': 0.2631578947368421,\n",
       " 'low': 0.05263157894736842,\n",
       " 'healthy': 0.3157894736842105,\n",
       " 'nutrients': 0.15789473684210525,\n",
       " 'sodium': 0.21052631578947367,\n",
       " 'mineral': 0.05263157894736842,\n",
       " 'sugar': 0.3684210526315789,\n",
       " 'starch': 0.05263157894736842,\n",
       " 'unhealthy': 0.15789473684210525,\n",
       " 'fat': 0.21052631578947367,\n",
       " 'lack': 0.15789473684210525,\n",
       " 'protein': 0.05263157894736842,\n",
       " 'dietary': 0.10526315789473684,\n",
       " 'fibers': 0.10526315789473684,\n",
       " 'Processed': 0.05263157894736842,\n",
       " 'means': 0.05263157894736842,\n",
       " 'rapid': 0.05263157894736842,\n",
       " 'weight': 0.3157894736842105,\n",
       " 'gain': 0.21052631578947367,\n",
       " 'negatively': 0.05263157894736842,\n",
       " 'impact': 0.15789473684210525,\n",
       " 'body': 0.2631578947368421,\n",
       " 'life': 0.21052631578947367,\n",
       " 'makes': 0.10526315789473684,\n",
       " 'able': 0.05263157894736842,\n",
       " 'person': 0.15789473684210525,\n",
       " 'excessive': 0.05263157894736842,\n",
       " 'called': 0.05263157894736842,\n",
       " 'obesity': 0.10526315789473684,\n",
       " 'tastes': 0.10526315789473684,\n",
       " 'looks': 0.10526315789473684,\n",
       " 'fulfil': 0.05263157894736842,\n",
       " 'calorie': 0.10526315789473684,\n",
       " 'requirement': 0.05263157894736842,\n",
       " 'like': 0.2631578947368421,\n",
       " 'french': 0.05263157894736842,\n",
       " 'fries': 0.10526315789473684,\n",
       " 'pizza': 0.05263157894736842,\n",
       " 'burgers': 0.10526315789473684,\n",
       " 'candy': 0.10526315789473684,\n",
       " 'soft': 0.05263157894736842,\n",
       " 'drinks': 0.05263157894736842,\n",
       " 'baked': 0.05263157894736842,\n",
       " 'goods': 0.05263157894736842,\n",
       " 'ice': 0.05263157894736842,\n",
       " 'cream': 0.05263157894736842,\n",
       " 'cookies': 0.10526315789473684,\n",
       " 'etc': 0.10526315789473684,\n",
       " 'example': 0.05263157894736842,\n",
       " 'containing': 0.05263157894736842,\n",
       " 'according': 0.05263157894736842,\n",
       " 'Centres': 0.05263157894736842,\n",
       " 'Disease': 0.05263157894736842,\n",
       " 'Control': 0.05263157894736842,\n",
       " 'Prevention': 0.05263157894736842,\n",
       " 'Kids': 0.05263157894736842,\n",
       " 'eating': 0.10526315789473684,\n",
       " 'prone': 0.10526315789473684,\n",
       " 'type-2': 0.10526315789473684,\n",
       " 'diabetes': 0.21052631578947367,\n",
       " 'unable': 0.05263157894736842,\n",
       " 'regulate': 0.05263157894736842,\n",
       " 'blood': 0.2631578947368421,\n",
       " 'level': 0.21052631578947367,\n",
       " 'Risk': 0.05263157894736842,\n",
       " 'getting': 0.05263157894736842,\n",
       " 'disease': 0.10526315789473684,\n",
       " 'increasing': 0.05263157894736842,\n",
       " 'obese': 0.05263157894736842,\n",
       " 'overweight': 0.05263157894736842,\n",
       " 'increases': 0.21052631578947367,\n",
       " 'risk': 0.21052631578947367,\n",
       " 'kidney': 0.10526315789473684,\n",
       " 'failure': 0.10526315789473684,\n",
       " 'Eating': 0.05263157894736842,\n",
       " 'lead': 0.10526315789473684,\n",
       " 'nutritional': 0.10526315789473684,\n",
       " 'deficiencies': 0.10526315789473684,\n",
       " 'essential': 0.10526315789473684,\n",
       " 'vitamins': 0.10526315789473684,\n",
       " 'iron': 0.05263157894736842,\n",
       " 'minerals': 0.10526315789473684,\n",
       " 'cardiovascular': 0.10526315789473684,\n",
       " 'diseases': 0.10526315789473684,\n",
       " 'rich': 0.05263157894736842,\n",
       " 'saturated': 0.05263157894736842,\n",
       " 'bad': 0.15789473684210525,\n",
       " 'High': 0.05263157894736842,\n",
       " 'diet': 0.10526315789473684,\n",
       " 'pressure': 0.10526315789473684,\n",
       " 'overloads': 0.05263157894736842,\n",
       " 'heart': 0.2631578947368421,\n",
       " 'functioning': 0.10526315789473684,\n",
       " 'develop': 0.05263157894736842,\n",
       " 'extra': 0.05263157894736842,\n",
       " 'fatter': 0.05263157894736842,\n",
       " 'unhealthier': 0.05263157894736842,\n",
       " 'contain': 0.05263157894736842,\n",
       " 'carbohydrate': 0.05263157894736842,\n",
       " 'spike': 0.10526315789473684,\n",
       " 'lethargic': 0.05263157894736842,\n",
       " 'sleepy': 0.05263157894736842,\n",
       " 'active': 0.05263157894736842,\n",
       " 'alert': 0.05263157894736842,\n",
       " 'Reflexes': 0.05263157894736842,\n",
       " 'senses': 0.05263157894736842,\n",
       " 'people': 0.10526315789473684,\n",
       " 'dull': 0.10526315789473684,\n",
       " 'day': 0.10526315789473684,\n",
       " 'live': 0.05263157894736842,\n",
       " 'sedentary': 0.05263157894736842,\n",
       " 'source': 0.05263157894736842,\n",
       " 'constipation': 0.05263157894736842,\n",
       " 'ailments': 0.05263157894736842,\n",
       " 'clogged': 0.05263157894736842,\n",
       " 'arteries': 0.10526315789473684,\n",
       " 'attack': 0.10526315789473684,\n",
       " 'strokes': 0.05263157894736842,\n",
       " 'poor': 0.05263157894736842,\n",
       " 'nutrition': 0.05263157894736842,\n",
       " 'easiest': 0.05263157894736842,\n",
       " 'way': 0.10526315789473684,\n",
       " 'fats': 0.15789473684210525,\n",
       " 'rapidly': 0.05263157894736842,\n",
       " 'main': 0.10526315789473684,\n",
       " 'reasons': 0.05263157894736842,\n",
       " 'increase': 0.05263157894736842,\n",
       " 'nowadays': 0.05263157894736842,\n",
       " 'positive': 0.05263157894736842,\n",
       " 'points': 0.05263157894736842,\n",
       " 'requires': 0.05263157894736842,\n",
       " 'stay': 0.05263157894736842,\n",
       " 'fit': 0.05263157894736842,\n",
       " 'fulfilled': 0.05263157894736842,\n",
       " 'instance': 0.10526315789473684,\n",
       " 'French': 0.05263157894736842,\n",
       " 'amounts': 0.05263157894736842,\n",
       " 'result': 0.15789473684210525,\n",
       " 'long': 0.05263157894736842,\n",
       " 'term': 0.05263157894736842,\n",
       " 'illnesses': 0.05263157894736842,\n",
       " 'consume': 0.05263157894736842,\n",
       " 'consumption': 0.05263157894736842,\n",
       " 'plus': 0.05263157894736842,\n",
       " 'words': 0.05263157894736842,\n",
       " 'interferes': 0.05263157894736842,\n",
       " 'Furthermore': 0.05263157894736842,\n",
       " 'contains': 0.05263157894736842,\n",
       " 'higher': 0.05263157894736842,\n",
       " 'carbohydrates': 0.05263157894736842,\n",
       " 'instantly': 0.10526315789473684,\n",
       " 'levels': 0.05263157894736842,\n",
       " 'lethargy': 0.05263157894736842,\n",
       " 'inactiveness': 0.05263157894736842,\n",
       " 'sleepiness': 0.05263157894736842,\n",
       " 'reflex': 0.05263157894736842,\n",
       " 'overtime': 0.10526315789473684,\n",
       " 'inactive': 0.05263157894736842,\n",
       " 'things': 0.10526315789473684,\n",
       " 'worse': 0.05263157894736842,\n",
       " 'clogs': 0.05263157894736842,\n",
       " 'avoided': 0.05263157894736842,\n",
       " 'save': 0.05263157894736842,\n",
       " 'ruined': 0.05263157894736842,\n",
       " 'problem': 0.05263157894736842,\n",
       " 'realize': 0.05263157894736842,\n",
       " 'ill': 0.05263157894736842,\n",
       " 'time': 0.10526315789473684,\n",
       " 'comes': 0.05263157894736842,\n",
       " 'late': 0.05263157894736842,\n",
       " 'importantly': 0.05263157894736842,\n",
       " 'issue': 0.05263157894736842,\n",
       " 'works': 0.05263157894736842,\n",
       " 'face': 0.05263157894736842,\n",
       " 'consequences': 0.05263157894736842,\n",
       " 'sooner': 0.05263157894736842,\n",
       " 'later': 0.05263157894736842,\n",
       " 'better': 0.05263157894736842,\n",
       " 'stop': 0.05263157894736842,\n",
       " 'avoid': 0.05263157894736842,\n",
       " 'encouraging': 0.05263157894736842,\n",
       " 'early': 0.05263157894736842,\n",
       " 'eat': 0.05263157894736842,\n",
       " 'green': 0.10526315789473684,\n",
       " 'vegetables': 0.05263157894736842,\n",
       " 'buds': 0.05263157894736842,\n",
       " 'developed': 0.05263157894736842,\n",
       " 'find': 0.10526315789473684,\n",
       " 'tasty': 0.05263157894736842,\n",
       " 'try': 0.10526315789473684,\n",
       " 'mix': 0.05263157894736842,\n",
       " 'serve': 0.05263157894736842,\n",
       " 'vegetable': 0.05263157894736842,\n",
       " 'style': 0.05263157894736842,\n",
       " 'Incorporate': 0.05263157894736842,\n",
       " 'different': 0.10526315789473684,\n",
       " 'types': 0.05263157894736842,\n",
       " 'following': 0.05263157894736842,\n",
       " 'recipes': 0.05263157894736842,\n",
       " 'help': 0.10526315789473684,\n",
       " 'home': 0.05263157894736842,\n",
       " 'attracted': 0.05263157894736842,\n",
       " 'short': 0.05263157894736842,\n",
       " 'deprive': 0.05263157894736842,\n",
       " 'completely': 0.05263157894736842,\n",
       " 'Children': 0.05263157894736842,\n",
       " 'sure': 0.05263157894736842,\n",
       " 'limited': 0.05263157894736842,\n",
       " 'quantities': 0.05263157894736842,\n",
       " 'periods': 0.05263157894736842}"
      ]
     },
     "execution_count": 32,
     "metadata": {},
     "output_type": "execute_result"
    }
   ],
   "source": [
    "word_frequencies"
   ]
  },
  {
   "cell_type": "code",
   "execution_count": 33,
   "id": "23d553ef",
   "metadata": {},
   "outputs": [
    {
     "name": "stdout",
     "output_type": "stream",
     "text": [
      "[Junk foods taste good that’s why it is mostly liked by everyone of any age group especially kids and school going children., They generally ask for the junk food daily because they have been trend so by their parents from the childhood., They never have been discussed by their parents about the harmful effects of junk foods over health., According to the research by scientists, it has been found that junk foods have negative effects on the health in many ways., They are generally fried food found in the market in the packets., They become high in calories, high in cholesterol, low in healthy nutrients, high in sodium mineral, high in sugar, starch, unhealthy fat, lack of protein and lack of dietary fibers., Processed and junk foods are the means of rapid and unhealthy weight gain and negatively impact the whole body throughout the life., It makes able a person to gain excessive weight which is called as obesity., Junk foods tastes good and looks good however do not fulfil the healthy calorie requirement of the body., Some of the foods like french fries, fried foods, pizza, burgers, candy, soft drinks, baked goods, ice cream, cookies, etc are the example of high-sugar and high-fat containing foods., It is found according to the Centres for Disease Control and Prevention that Kids and children eating junk food are more prone to the type-2 diabetes., In type-2 diabetes our body become unable to regulate blood sugar level., Risk of getting this disease is increasing as one become more obese or overweight., It increases the risk of kidney failure., Eating junk food daily lead us to the nutritional deficiencies in the body because it is lack of essential nutrients, vitamins, iron, minerals and dietary fibers., It increases risk of cardiovascular diseases because it is rich in saturated fat, sodium and bad cholesterol., High sodium and bad cholesterol diet increases blood pressure and overloads the heart functioning., One who like junk food develop more risk to put on extra weight and become fatter and unhealthier., Junk foods contain high level carbohydrate which spike blood sugar level and make person more lethargic, sleepy and less active and alert., Reflexes and senses of the people eating this food become dull day by day thus they live more sedentary life., Junk foods are the source of constipation and other disease like diabetes, heart ailments, clogged arteries, heart attack, strokes, etc because of being poor in nutrition., Junk food is the easiest way to gain unhealthy weight., The amount of fats and sugar in the food makes you gain weight rapidly., However, this is not a healthy weight., It is more of fats and cholesterol which will have a harmful impact on your health., Junk food is also one of the main reasons for the increase in obesity nowadays., This food only looks and tastes good, other than that, it has no positive points., The amount of calorie your body requires to stay fit is not fulfilled by this food., For instance, foods like French fries, burgers, candy, and cookies, all have high amounts of sugar and fats., Therefore, this can result in long-term illnesses like diabetes and high blood pressure., This may also result in kidney failure., Above all, you can get various nutritional deficiencies when you don’t consume the essential nutrients, vitamins, minerals and more., You become prone to cardiovascular diseases due to the consumption of bad cholesterol and fat plus sodium., In other words, all this interferes with the functioning of your heart., Furthermore, junk food contains a higher level of carbohydrates., It will instantly spike your blood sugar levels., This will result in lethargy, inactiveness, and sleepiness., A person reflex becomes dull overtime and they lead an inactive life., To make things worse, junk food also clogs your arteries and increases the risk of a heart attack., Therefore, it must be avoided at the first instance to save your life from becoming ruined., The main problem with junk food is that people don’t realize its ill effects now., When the time comes, it is too late., Most importantly, the issue is that it does not impact you instantly., It works on your overtime; you will face the consequences sooner or later., Thus, it is better to stop now., You can avoid junk food by encouraging your children from an early age to eat green vegetables., Their taste buds must be developed as such that they find healthy food tasty., Moreover, try to mix things up., Do not serve the same green vegetable daily in the same style., Incorporate different types of healthy food in their diet following different recipes., This will help them to try foods at home rather than being attracted to junk food., In short, do not deprive them completely of it as that will not help., Children will find one way or the other to have it., Make sure you give them junk food in limited quantities and at healthy periods of time.]\n"
     ]
    }
   ],
   "source": [
    "sentenece_tokens = [sent_tokens for sent_tokens in doc.sents]\n",
    "print(sentenece_tokens)"
   ]
  },
  {
   "cell_type": "code",
   "execution_count": 40,
   "id": "77ed832e",
   "metadata": {},
   "outputs": [],
   "source": [
    "sentence_scores = {}\n",
    "for sent in sentenece_tokens:\n",
    "    for word in sent:\n",
    "        if word.text.lower() in word_frequencies.keys():\n",
    "            if sent not in sentence_scores.keys():\n",
    "                sentence_scores[sent] = word_frequencies[word.text.lower()]\n",
    "            else:\n",
    "                sentence_scores[sent] += word_frequencies[word.text.lower()]                                       \n",
    "                                                        "
   ]
  },
  {
   "cell_type": "code",
   "execution_count": 41,
   "id": "964fe686",
   "metadata": {},
   "outputs": [
    {
     "data": {
      "text/plain": [
       "{Junk foods taste good that’s why it is mostly liked by everyone of any age group especially kids and school going children.: 2.2105263157894735,\n",
       " They generally ask for the junk food daily because they have been trend so by their parents from the childhood.: 2.210526315789474,\n",
       " They never have been discussed by their parents about the harmful effects of junk foods over health.: 1.894736842105263,\n",
       " According to the research by scientists, it has been found that junk foods have negative effects on the health in many ways.: 2.0526315789473686,\n",
       " They are generally fried food found in the market in the packets.: 1.4736842105263157,\n",
       " They become high in calories, high in cholesterol, low in healthy nutrients, high in sodium mineral, high in sugar, starch, unhealthy fat, lack of protein and lack of dietary fibers.: 4.36842105263158,\n",
       " Processed and junk foods are the means of rapid and unhealthy weight gain and negatively impact the whole body throughout the life.: 2.7894736842105265,\n",
       " It makes able a person to gain excessive weight which is called as obesity.: 1.0526315789473686,\n",
       " Junk foods tastes good and looks good however do not fulfil the healthy calorie requirement of the body.: 2.736842105263158,\n",
       " Some of the foods like french fries, fried foods, pizza, burgers, candy, soft drinks, baked goods, ice cream, cookies, etc are the example of high-sugar and high-fat containing foods.: 4.842105263157895,\n",
       " It is found according to the Centres for Disease Control and Prevention that Kids and children eating junk food are more prone to the type-2 diabetes.: 2.7368421052631575,\n",
       " In type-2 diabetes our body become unable to regulate blood sugar level.: 1.526315789473684,\n",
       " Risk of getting this disease is increasing as one become more obese or overweight.: 0.5263157894736842,\n",
       " It increases the risk of kidney failure.: 0.631578947368421,\n",
       " Eating junk food daily lead us to the nutritional deficiencies in the body because it is lack of essential nutrients, vitamins, iron, minerals and dietary fibers.: 3.421052631578947,\n",
       " It increases risk of cardiovascular diseases because it is rich in saturated fat, sodium and bad cholesterol.: 1.5789473684210524,\n",
       " High sodium and bad cholesterol diet increases blood pressure and overloads the heart functioning.: 2.2105263157894735,\n",
       " One who like junk food develop more risk to put on extra weight and become fatter and unhealthier.: 2.68421052631579,\n",
       " Junk foods contain high level carbohydrate which spike blood sugar level and make person more lethargic, sleepy and less active and alert.: 3.421052631578948,\n",
       " Reflexes and senses of the people eating this food become dull day by day thus they live more sedentary life.: 1.8947368421052626,\n",
       " Junk foods are the source of constipation and other disease like diabetes, heart ailments, clogged arteries, heart attack, strokes, etc because of being poor in nutrition.: 3.105263157894737,\n",
       " Junk food is the easiest way to gain unhealthy weight.: 2.526315789473684,\n",
       " The amount of fats and sugar in the food makes you gain weight rapidly.: 2.2105263157894735,\n",
       " However, this is not a healthy weight.: 0.631578947368421,\n",
       " It is more of fats and cholesterol which will have a harmful impact on your health.: 0.8421052631578947,\n",
       " Junk food is also one of the main reasons for the increase in obesity nowadays.: 2.052631578947368,\n",
       " This food only looks and tastes good, other than that, it has no positive points.: 1.5263157894736838,\n",
       " The amount of calorie your body requires to stay fit is not fulfilled by this food.: 1.5789473684210527,\n",
       " For instance, foods like French fries, burgers, candy, and cookies, all have high amounts of sugar and fats.: 2.5263157894736836,\n",
       " Therefore, this can result in long-term illnesses like diabetes and high blood pressure.: 1.6315789473684208,\n",
       " This may also result in kidney failure.: 0.3684210526315789,\n",
       " Above all, you can get various nutritional deficiencies when you don’t consume the essential nutrients, vitamins, minerals and more.: 0.7368421052631579,\n",
       " You become prone to cardiovascular diseases due to the consumption of bad cholesterol and fat plus sodium.: 1.263157894736842,\n",
       " In other words, all this interferes with the functioning of your heart.: 0.47368421052631576,\n",
       " Furthermore, junk food contains a higher level of carbohydrates.: 2.052631578947368,\n",
       " It will instantly spike your blood sugar levels.: 0.894736842105263,\n",
       " This will result in lethargy, inactiveness, and sleepiness.: 0.3157894736842105,\n",
       " A person reflex becomes dull overtime and they lead an inactive life.: 0.7894736842105263,\n",
       " To make things worse, junk food also clogs your arteries and increases the risk of a heart attack.: 2.7894736842105257,\n",
       " Therefore, it must be avoided at the first instance to save your life from becoming ruined.: 0.47368421052631576,\n",
       " The main problem with junk food is that people don’t realize its ill effects now.: 2.2105263157894735,\n",
       " When the time comes, it is too late.: 0.21052631578947367,\n",
       " Most importantly, the issue is that it does not impact you instantly.: 0.3684210526315789,\n",
       " It works on your overtime; you will face the consequences sooner or later.: 0.3684210526315789,\n",
       " Thus, it is better to stop now.: 0.10526315789473684,\n",
       " You can avoid junk food by encouraging your children from an early age to eat green vegetables.: 2.3157894736842106,\n",
       " Their taste buds must be developed as such that they find healthy food tasty.: 1.6842105263157894,\n",
       " Moreover, try to mix things up.: 0.2631578947368421,\n",
       " Do not serve the same green vegetable daily in the same style.: 0.42105263157894735,\n",
       " Incorporate different types of healthy food in their diet following different recipes.: 1.7894736842105263,\n",
       " This will help them to try foods at home rather than being attracted to junk food.: 2.631578947368421,\n",
       " In short, do not deprive them completely of it as that will not help.: 0.2631578947368421,\n",
       " Children will find one way or the other to have it.: 0.3684210526315789,\n",
       " Make sure you give them junk food in limited quantities and at healthy periods of time.: 2.3157894736842106}"
      ]
     },
     "execution_count": 41,
     "metadata": {},
     "output_type": "execute_result"
    }
   ],
   "source": [
    "sentence_scores"
   ]
  },
  {
   "cell_type": "code",
   "execution_count": 52,
   "id": "48bcf235",
   "metadata": {},
   "outputs": [
    {
     "data": {
      "text/plain": [
       "2"
      ]
     },
     "execution_count": 52,
     "metadata": {},
     "output_type": "execute_result"
    }
   ],
   "source": [
    "from heapq import nlargest\n",
    "select_length = int(len(sentenece_tokens)*0.05)\n",
    "select_length"
   ]
  },
  {
   "cell_type": "code",
   "execution_count": 53,
   "id": "d9f2ea3f",
   "metadata": {},
   "outputs": [],
   "source": [
    "summary = nlargest(select_length,sentence_scores,key=sentence_scores.get)"
   ]
  },
  {
   "cell_type": "code",
   "execution_count": 54,
   "id": "002b6a51",
   "metadata": {},
   "outputs": [
    {
     "data": {
      "text/plain": [
       "[Some of the foods like french fries, fried foods, pizza, burgers, candy, soft drinks, baked goods, ice cream, cookies, etc are the example of high-sugar and high-fat containing foods.,\n",
       " They become high in calories, high in cholesterol, low in healthy nutrients, high in sodium mineral, high in sugar, starch, unhealthy fat, lack of protein and lack of dietary fibers.]"
      ]
     },
     "execution_count": 54,
     "metadata": {},
     "output_type": "execute_result"
    }
   ],
   "source": [
    "summary"
   ]
  },
  {
   "cell_type": "code",
   "execution_count": 55,
   "id": "81ef580f",
   "metadata": {},
   "outputs": [],
   "source": [
    "final_summary = [word.text for word in summary]"
   ]
  },
  {
   "cell_type": "code",
   "execution_count": 56,
   "id": "afc47594",
   "metadata": {},
   "outputs": [
    {
     "name": "stdout",
     "output_type": "stream",
     "text": [
      "Some of the foods like french fries, fried foods, pizza, burgers, candy, soft drinks, baked goods, ice cream, cookies, etc are the example of high-sugar and high-fat containing foods. They become high in calories, high in cholesterol, low in healthy nutrients, high in sodium mineral, high in sugar, starch, unhealthy fat, lack of protein and lack of dietary fibers.\n"
     ]
    }
   ],
   "source": [
    "summary = ' '.join(final_summary)\n",
    "print(summary)"
   ]
  },
  {
   "cell_type": "code",
   "execution_count": 58,
   "id": "0f90827e",
   "metadata": {},
   "outputs": [
    {
     "name": "stdout",
     "output_type": "stream",
     "text": [
      "Junk foods taste good that’s why it is mostly liked by everyone of any age group especially kids and school going children. They generally ask for the junk food daily because they have been trend so by their parents from the childhood. They never have been discussed by their parents about the harmful effects of junk foods over health. According to the research by scientists, it has been found that junk foods have negative effects on the health in many ways. They are generally fried food found in the market in the packets. They become high in calories, high in cholesterol, low in healthy nutrients, high in sodium mineral, high in sugar, starch, unhealthy fat, lack of protein and lack of dietary fibers. Processed and junk foods are the means of rapid and unhealthy weight gain and negatively impact the whole body throughout the life. It makes able a person to gain excessive weight which is called as obesity. Junk foods tastes good and looks good however do not fulfil the healthy calorie requirement of the body. Some of the foods like french fries, fried foods, pizza, burgers, candy, soft drinks, baked goods, ice cream, cookies, etc are the example of high-sugar and high-fat containing foods. It is found according to the Centres for Disease Control and Prevention that Kids and children eating junk food are more prone to the type-2 diabetes. In type-2 diabetes our body become unable to regulate blood sugar level. Risk of getting this disease is increasing as one become more obese or overweight. It increases the risk of kidney failure. Eating junk food daily lead us to the nutritional deficiencies in the body because it is lack of essential nutrients, vitamins, iron, minerals and dietary fibers. It increases risk of cardiovascular diseases because it is rich in saturated fat, sodium and bad cholesterol. High sodium and bad cholesterol diet increases blood pressure and overloads the heart functioning. One who like junk food develop more risk to put on extra weight and become fatter and unhealthier. Junk foods contain high level carbohydrate which spike blood sugar level and make person more lethargic, sleepy and less active and alert. Reflexes and senses of the people eating this food become dull day by day thus they live more sedentary life. Junk foods are the source of constipation and other disease like diabetes, heart ailments, clogged arteries, heart attack, strokes, etc because of being poor in nutrition. Junk food is the easiest way to gain unhealthy weight. The amount of fats and sugar in the food makes you gain weight rapidly. However, this is not a healthy weight. It is more of fats and cholesterol which will have a harmful impact on your health. Junk food is also one of the main reasons for the increase in obesity nowadays.This food only looks and tastes good, other than that, it has no positive points. The amount of calorie your body requires to stay fit is not fulfilled by this food. For instance, foods like French fries, burgers, candy, and cookies, all have high amounts of sugar and fats. Therefore, this can result in long-term illnesses like diabetes and high blood pressure. This may also result in kidney failure. Above all, you can get various nutritional deficiencies when you don’t consume the essential nutrients, vitamins, minerals and more. You become prone to cardiovascular diseases due to the consumption of bad cholesterol and fat plus sodium. In other words, all this interferes with the functioning of your heart. Furthermore, junk food contains a higher level of carbohydrates. It will instantly spike your blood sugar levels. This will result in lethargy, inactiveness, and sleepiness. A person reflex becomes dull overtime and they lead an inactive life. To make things worse, junk food also clogs your arteries and increases the risk of a heart attack. Therefore, it must be avoided at the first instance to save your life from becoming ruined.The main problem with junk food is that people don’t realize its ill effects now. When the time comes, it is too late. Most importantly, the issue is that it does not impact you instantly. It works on your overtime; you will face the consequences sooner or later. Thus, it is better to stop now.You can avoid junk food by encouraging your children from an early age to eat green vegetables. Their taste buds must be developed as such that they find healthy food tasty. Moreover, try to mix things up. Do not serve the same green vegetable daily in the same style. Incorporate different types of healthy food in their diet following different recipes. This will help them to try foods at home rather than being attracted to junk food.In short, do not deprive them completely of it as that will not help. Children will find one way or the other to have it. Make sure you give them junk food in limited quantities and at healthy periods of time. \n",
      "4870\n",
      "366 None\n"
     ]
    },
    {
     "data": {
      "text/plain": [
       "(None, None)"
      ]
     },
     "execution_count": 58,
     "metadata": {},
     "output_type": "execute_result"
    }
   ],
   "source": [
    "print(original_text)"
   ]
  },
  {
   "cell_type": "code",
   "execution_count": 62,
   "id": "8fb7f326",
   "metadata": {},
   "outputs": [
    {
     "data": {
      "text/plain": [
       "366"
      ]
     },
     "execution_count": 62,
     "metadata": {},
     "output_type": "execute_result"
    }
   ],
   "source": [
    "len(summary)"
   ]
  },
  {
   "cell_type": "code",
   "execution_count": 61,
   "id": "c7eecbe2",
   "metadata": {},
   "outputs": [
    {
     "data": {
      "text/plain": [
       "4870"
      ]
     },
     "execution_count": 61,
     "metadata": {},
     "output_type": "execute_result"
    }
   ],
   "source": [
    "len(original_text)"
   ]
  },
  {
   "cell_type": "code",
   "execution_count": null,
   "id": "790f632d",
   "metadata": {},
   "outputs": [],
   "source": []
  }
 ],
 "metadata": {
  "kernelspec": {
   "display_name": "Python 3",
   "language": "python",
   "name": "python3"
  },
  "language_info": {
   "codemirror_mode": {
    "name": "ipython",
    "version": 3
   },
   "file_extension": ".py",
   "mimetype": "text/x-python",
   "name": "python",
   "nbconvert_exporter": "python",
   "pygments_lexer": "ipython3",
   "version": "3.8.8"
  }
 },
 "nbformat": 4,
 "nbformat_minor": 5
}
